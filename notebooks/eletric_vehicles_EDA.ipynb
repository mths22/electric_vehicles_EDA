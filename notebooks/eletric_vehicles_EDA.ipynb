{
 "cells": [
  {
   "cell_type": "markdown",
   "id": "40508a45",
   "metadata": {},
   "source": [
    "## 🧪 Introduction & Context\n",
    "\n",
    "The main goal of this project is to **freely explore an electric vehicle dataset**, applying filters and visualizations to uncover insights and interesting patterns.\n",
    "\n",
    "- The focus is on **exploratory data analysis (EDA)** only — no statistical tests or predictive modeling were applied.\n",
    "- Most features in the dataset are **categorical or text-based**, which would require more advanced preprocessing steps if we were to model them. Since the purpose here is exploration, we’re keeping it simple.\n",
    "- As for the numerical features, I chose not to calculate correlations between them, since they represent **very different concepts** and wouldn’t offer much value when compared directly.\n",
    "\n",
    "In this notebook, we’ll start by loading the necessary packages and importing the dataset into our kernel.\n"
   ]
  },
  {
   "cell_type": "code",
   "execution_count": 2,
   "id": "a38526c9",
   "metadata": {},
   "outputs": [],
   "source": [
    "import pandas as pd\n",
    "import numpy as np\n",
    "import matplotlib.pyplot as plt\n",
    "import seaborn as sns\n",
    "from sklearn.model_selection import train_test_split\n",
    "from sklearn.linear_model import LogisticRegression\n",
    "import statsmodels.api as sm"
   ]
  },
  {
   "cell_type": "code",
   "execution_count": 3,
   "id": "9ddf525b",
   "metadata": {},
   "outputs": [],
   "source": [
    "main_df = pd.read_csv('data/Electric Vehicle Population Data.csv')"
   ]
  },
  {
   "cell_type": "markdown",
   "id": "667ee7e7",
   "metadata": {},
   "source": [
    "##  First Look at the Dataset\n",
    "\n",
    "Let’s use a quick `.head()` to preview the first few rows of the dataset. This helps us:\n",
    "\n",
    "- Get an overview of the **available columns**\n",
    "- Understand the **types of values** we’re working with\n",
    "- Start thinking about **potential areas to explore**\n",
    "\n",
    "This initial step gives us a general sense of the dataset structure and helps guide the next steps in our EDA.\n"
   ]
  },
  {
   "cell_type": "code",
   "execution_count": 4,
   "id": "d16265ca",
   "metadata": {},
   "outputs": [
    {
     "data": {
      "text/html": [
       "<div>\n",
       "<style scoped>\n",
       "    .dataframe tbody tr th:only-of-type {\n",
       "        vertical-align: middle;\n",
       "    }\n",
       "\n",
       "    .dataframe tbody tr th {\n",
       "        vertical-align: top;\n",
       "    }\n",
       "\n",
       "    .dataframe thead th {\n",
       "        text-align: right;\n",
       "    }\n",
       "</style>\n",
       "<table border=\"1\" class=\"dataframe\">\n",
       "  <thead>\n",
       "    <tr style=\"text-align: right;\">\n",
       "      <th></th>\n",
       "      <th>VIN (1-10)</th>\n",
       "      <th>County</th>\n",
       "      <th>City</th>\n",
       "      <th>State</th>\n",
       "      <th>Postal Code</th>\n",
       "      <th>Model Year</th>\n",
       "      <th>Make</th>\n",
       "      <th>Model</th>\n",
       "      <th>Electric Vehicle Type</th>\n",
       "      <th>Clean Alternative Fuel Vehicle (CAFV) Eligibility</th>\n",
       "      <th>Electric Range</th>\n",
       "      <th>Base MSRP</th>\n",
       "      <th>Legislative District</th>\n",
       "      <th>DOL Vehicle ID</th>\n",
       "      <th>Vehicle Location</th>\n",
       "      <th>Electric Utility</th>\n",
       "      <th>2020 Census Tract</th>\n",
       "    </tr>\n",
       "  </thead>\n",
       "  <tbody>\n",
       "    <tr>\n",
       "      <th>0</th>\n",
       "      <td>2T3YL4DV0E</td>\n",
       "      <td>King</td>\n",
       "      <td>Bellevue</td>\n",
       "      <td>WA</td>\n",
       "      <td>98005.0</td>\n",
       "      <td>2014</td>\n",
       "      <td>TOYOTA</td>\n",
       "      <td>RAV4</td>\n",
       "      <td>Battery Electric Vehicle (BEV)</td>\n",
       "      <td>Clean Alternative Fuel Vehicle Eligible</td>\n",
       "      <td>103.0</td>\n",
       "      <td>0.0</td>\n",
       "      <td>41.0</td>\n",
       "      <td>186450183</td>\n",
       "      <td>POINT (-122.1621 47.64441)</td>\n",
       "      <td>PUGET SOUND ENERGY INC||CITY OF TACOMA - (WA)</td>\n",
       "      <td>5.303302e+10</td>\n",
       "    </tr>\n",
       "    <tr>\n",
       "      <th>1</th>\n",
       "      <td>5YJ3E1EB6K</td>\n",
       "      <td>King</td>\n",
       "      <td>Bothell</td>\n",
       "      <td>WA</td>\n",
       "      <td>98011.0</td>\n",
       "      <td>2019</td>\n",
       "      <td>TESLA</td>\n",
       "      <td>MODEL 3</td>\n",
       "      <td>Battery Electric Vehicle (BEV)</td>\n",
       "      <td>Clean Alternative Fuel Vehicle Eligible</td>\n",
       "      <td>220.0</td>\n",
       "      <td>0.0</td>\n",
       "      <td>1.0</td>\n",
       "      <td>478093654</td>\n",
       "      <td>POINT (-122.20563 47.76144)</td>\n",
       "      <td>PUGET SOUND ENERGY INC||CITY OF TACOMA - (WA)</td>\n",
       "      <td>5.303302e+10</td>\n",
       "    </tr>\n",
       "    <tr>\n",
       "      <th>2</th>\n",
       "      <td>5UX43EU02S</td>\n",
       "      <td>Thurston</td>\n",
       "      <td>Olympia</td>\n",
       "      <td>WA</td>\n",
       "      <td>98502.0</td>\n",
       "      <td>2025</td>\n",
       "      <td>BMW</td>\n",
       "      <td>X5</td>\n",
       "      <td>Plug-in Hybrid Electric Vehicle (PHEV)</td>\n",
       "      <td>Clean Alternative Fuel Vehicle Eligible</td>\n",
       "      <td>40.0</td>\n",
       "      <td>0.0</td>\n",
       "      <td>35.0</td>\n",
       "      <td>274800718</td>\n",
       "      <td>POINT (-122.92333 47.03779)</td>\n",
       "      <td>PUGET SOUND ENERGY INC</td>\n",
       "      <td>5.306701e+10</td>\n",
       "    </tr>\n",
       "    <tr>\n",
       "      <th>3</th>\n",
       "      <td>JTMAB3FV5R</td>\n",
       "      <td>Thurston</td>\n",
       "      <td>Olympia</td>\n",
       "      <td>WA</td>\n",
       "      <td>98513.0</td>\n",
       "      <td>2024</td>\n",
       "      <td>TOYOTA</td>\n",
       "      <td>RAV4 PRIME</td>\n",
       "      <td>Plug-in Hybrid Electric Vehicle (PHEV)</td>\n",
       "      <td>Clean Alternative Fuel Vehicle Eligible</td>\n",
       "      <td>42.0</td>\n",
       "      <td>0.0</td>\n",
       "      <td>2.0</td>\n",
       "      <td>260758165</td>\n",
       "      <td>POINT (-122.81754 46.98876)</td>\n",
       "      <td>PUGET SOUND ENERGY INC</td>\n",
       "      <td>5.306701e+10</td>\n",
       "    </tr>\n",
       "    <tr>\n",
       "      <th>4</th>\n",
       "      <td>5YJYGDEE8M</td>\n",
       "      <td>Yakima</td>\n",
       "      <td>Selah</td>\n",
       "      <td>WA</td>\n",
       "      <td>98942.0</td>\n",
       "      <td>2021</td>\n",
       "      <td>TESLA</td>\n",
       "      <td>MODEL Y</td>\n",
       "      <td>Battery Electric Vehicle (BEV)</td>\n",
       "      <td>Eligibility unknown as battery range has not b...</td>\n",
       "      <td>0.0</td>\n",
       "      <td>0.0</td>\n",
       "      <td>15.0</td>\n",
       "      <td>236581355</td>\n",
       "      <td>POINT (-120.53145 46.65405)</td>\n",
       "      <td>PACIFICORP</td>\n",
       "      <td>5.307700e+10</td>\n",
       "    </tr>\n",
       "  </tbody>\n",
       "</table>\n",
       "</div>"
      ],
      "text/plain": [
       "   VIN (1-10)    County      City State  Postal Code  Model Year    Make  \\\n",
       "0  2T3YL4DV0E      King  Bellevue    WA      98005.0        2014  TOYOTA   \n",
       "1  5YJ3E1EB6K      King   Bothell    WA      98011.0        2019   TESLA   \n",
       "2  5UX43EU02S  Thurston   Olympia    WA      98502.0        2025     BMW   \n",
       "3  JTMAB3FV5R  Thurston   Olympia    WA      98513.0        2024  TOYOTA   \n",
       "4  5YJYGDEE8M    Yakima     Selah    WA      98942.0        2021   TESLA   \n",
       "\n",
       "        Model                   Electric Vehicle Type  \\\n",
       "0        RAV4          Battery Electric Vehicle (BEV)   \n",
       "1     MODEL 3          Battery Electric Vehicle (BEV)   \n",
       "2          X5  Plug-in Hybrid Electric Vehicle (PHEV)   \n",
       "3  RAV4 PRIME  Plug-in Hybrid Electric Vehicle (PHEV)   \n",
       "4     MODEL Y          Battery Electric Vehicle (BEV)   \n",
       "\n",
       "   Clean Alternative Fuel Vehicle (CAFV) Eligibility  Electric Range  \\\n",
       "0            Clean Alternative Fuel Vehicle Eligible           103.0   \n",
       "1            Clean Alternative Fuel Vehicle Eligible           220.0   \n",
       "2            Clean Alternative Fuel Vehicle Eligible            40.0   \n",
       "3            Clean Alternative Fuel Vehicle Eligible            42.0   \n",
       "4  Eligibility unknown as battery range has not b...             0.0   \n",
       "\n",
       "   Base MSRP  Legislative District  DOL Vehicle ID  \\\n",
       "0        0.0                  41.0       186450183   \n",
       "1        0.0                   1.0       478093654   \n",
       "2        0.0                  35.0       274800718   \n",
       "3        0.0                   2.0       260758165   \n",
       "4        0.0                  15.0       236581355   \n",
       "\n",
       "              Vehicle Location                               Electric Utility  \\\n",
       "0   POINT (-122.1621 47.64441)  PUGET SOUND ENERGY INC||CITY OF TACOMA - (WA)   \n",
       "1  POINT (-122.20563 47.76144)  PUGET SOUND ENERGY INC||CITY OF TACOMA - (WA)   \n",
       "2  POINT (-122.92333 47.03779)                         PUGET SOUND ENERGY INC   \n",
       "3  POINT (-122.81754 46.98876)                         PUGET SOUND ENERGY INC   \n",
       "4  POINT (-120.53145 46.65405)                                     PACIFICORP   \n",
       "\n",
       "   2020 Census Tract  \n",
       "0       5.303302e+10  \n",
       "1       5.303302e+10  \n",
       "2       5.306701e+10  \n",
       "3       5.306701e+10  \n",
       "4       5.307700e+10  "
      ]
     },
     "execution_count": 4,
     "metadata": {},
     "output_type": "execute_result"
    }
   ],
   "source": [
    "main_df.head()"
   ]
  },
  {
   "cell_type": "markdown",
   "id": "c5169d19",
   "metadata": {},
   "source": [
    "## Data Cleaning: Duplicates and Null Values\n",
    "\n",
    "Before diving into the analysis, we'll start with some basic data cleaning steps:\n",
    "\n",
    "- Identify and remove duplicate rows to ensure the dataset is accurate.\n",
    "- Check for missing values that could affect visualizations or lead to misleading insights.\n",
    "\n",
    "Once the dataset is cleaned, we'll proceed with some basic exploratory data analysis to understand the distribution of the data and look for potential patterns.\n"
   ]
  },
  {
   "cell_type": "code",
   "execution_count": 5,
   "id": "483874c0",
   "metadata": {},
   "outputs": [
    {
     "data": {
      "text/plain": [
       "0"
      ]
     },
     "execution_count": 5,
     "metadata": {},
     "output_type": "execute_result"
    }
   ],
   "source": [
    "#Check duplicates\n",
    "\n",
    "main_df.duplicated().sum()"
   ]
  },
  {
   "cell_type": "code",
   "execution_count": 6,
   "id": "713ad8c2",
   "metadata": {},
   "outputs": [
    {
     "data": {
      "text/plain": [
       "VIN (1-10)                                             0\n",
       "County                                                 4\n",
       "City                                                   4\n",
       "State                                                  0\n",
       "Postal Code                                            4\n",
       "Model Year                                             0\n",
       "Make                                                   0\n",
       "Model                                                  0\n",
       "Electric Vehicle Type                                  0\n",
       "Clean Alternative Fuel Vehicle (CAFV) Eligibility      0\n",
       "Electric Range                                        27\n",
       "Base MSRP                                             27\n",
       "Legislative District                                 481\n",
       "DOL Vehicle ID                                         0\n",
       "Vehicle Location                                      11\n",
       "Electric Utility                                       4\n",
       "2020 Census Tract                                      4\n",
       "dtype: int64"
      ]
     },
     "execution_count": 6,
     "metadata": {},
     "output_type": "execute_result"
    }
   ],
   "source": [
    "#Check Nulls\n",
    "\n",
    "main_df.isnull().sum()"
   ]
  },
  {
   "cell_type": "markdown",
   "id": "ab4e6ef2",
   "metadata": {},
   "source": [
    "### Handling Missing Values\n",
    "\n",
    "After checking for null values, we can see that there are some missing entries in the dataset. However, they represent only a small percentage of the total records.\n",
    "\n",
    "Given their low impact, we can safely proceed by removing these rows to keep the dataset clean and avoid unnecessary complications during analysis.\n"
   ]
  },
  {
   "cell_type": "code",
   "execution_count": 7,
   "id": "4a208033",
   "metadata": {},
   "outputs": [
    {
     "name": "stdout",
     "output_type": "stream",
     "text": [
      "<class 'pandas.core.frame.DataFrame'>\n",
      "RangeIndex: 232230 entries, 0 to 232229\n",
      "Data columns (total 17 columns):\n",
      " #   Column                                             Non-Null Count   Dtype  \n",
      "---  ------                                             --------------   -----  \n",
      " 0   VIN (1-10)                                         232230 non-null  object \n",
      " 1   County                                             232226 non-null  object \n",
      " 2   City                                               232226 non-null  object \n",
      " 3   State                                              232230 non-null  object \n",
      " 4   Postal Code                                        232226 non-null  float64\n",
      " 5   Model Year                                         232230 non-null  int64  \n",
      " 6   Make                                               232230 non-null  object \n",
      " 7   Model                                              232230 non-null  object \n",
      " 8   Electric Vehicle Type                              232230 non-null  object \n",
      " 9   Clean Alternative Fuel Vehicle (CAFV) Eligibility  232230 non-null  object \n",
      " 10  Electric Range                                     232203 non-null  float64\n",
      " 11  Base MSRP                                          232203 non-null  float64\n",
      " 12  Legislative District                               231749 non-null  float64\n",
      " 13  DOL Vehicle ID                                     232230 non-null  int64  \n",
      " 14  Vehicle Location                                   232219 non-null  object \n",
      " 15  Electric Utility                                   232226 non-null  object \n",
      " 16  2020 Census Tract                                  232226 non-null  float64\n",
      "dtypes: float64(5), int64(2), object(10)\n",
      "memory usage: 30.1+ MB\n"
     ]
    }
   ],
   "source": [
    "main_df.info()"
   ]
  },
  {
   "cell_type": "markdown",
   "id": "58518d48",
   "metadata": {},
   "source": [
    "### Checking Data Types\n",
    "\n",
    "We used a quick `.info()` to review the data types of each column and confirm that everything is formatted correctly.\n",
    "\n",
    "One important observation is that the `'Model Year'` column is currently stored as an integer. To prepare it for time-based analysis, we’ll convert it to a datetime format. This will allow us to work with it more effectively when exploring trends over time.\n"
   ]
  },
  {
   "cell_type": "code",
   "execution_count": 30,
   "id": "6db1a4a7",
   "metadata": {},
   "outputs": [],
   "source": [
    "#Convert Model Year to datetime\n",
    "main_df['Model Year'] = pd.to_datetime(main_df['Model Year'], format='%Y', errors='coerce')\n"
   ]
  },
  {
   "cell_type": "code",
   "execution_count": null,
   "id": "c486df32",
   "metadata": {},
   "outputs": [
    {
     "name": "stdout",
     "output_type": "stream",
     "text": [
      "<class 'pandas.core.frame.DataFrame'>\n",
      "Index: 231715 entries, 0 to 232229\n",
      "Data columns (total 17 columns):\n",
      " #   Column                                             Non-Null Count   Dtype         \n",
      "---  ------                                             --------------   -----         \n",
      " 0   VIN (1-10)                                         231715 non-null  object        \n",
      " 1   County                                             231715 non-null  object        \n",
      " 2   City                                               231715 non-null  object        \n",
      " 3   State                                              231715 non-null  object        \n",
      " 4   Postal Code                                        231715 non-null  float64       \n",
      " 5   Model Year                                         231715 non-null  datetime64[ns]\n",
      " 6   Make                                               231715 non-null  object        \n",
      " 7   Model                                              231715 non-null  object        \n",
      " 8   Electric Vehicle Type                              231715 non-null  object        \n",
      " 9   Clean Alternative Fuel Vehicle (CAFV) Eligibility  231715 non-null  object        \n",
      " 10  Electric Range                                     231715 non-null  float64       \n",
      " 11  Base MSRP                                          231715 non-null  float64       \n",
      " 12  Legislative District                               231715 non-null  float64       \n",
      " 13  DOL Vehicle ID                                     231715 non-null  int64         \n",
      " 14  Vehicle Location                                   231715 non-null  object        \n",
      " 15  Electric Utility                                   231715 non-null  object        \n",
      " 16  2020 Census Tract                                  231715 non-null  float64       \n",
      "dtypes: datetime64[ns](1), float64(5), int64(1), object(10)\n",
      "memory usage: 31.8+ MB\n"
     ]
    }
   ],
   "source": [
    "#Check the data types to sse if datatime change took place\n",
    "main_df.info()"
   ]
  },
  {
   "cell_type": "markdown",
   "id": "1d42d11e",
   "metadata": {},
   "source": [
    "### Verifying Dataset Size\n",
    "\n",
    "Before dropping the null values, we quickly checked the shape of the DataFrame to understand the overall dataset size.\n",
    "\n",
    "This helps us confirm that removing the rows with missing values won't significantly impact our analysis, since the proportion of missing data is small relative to the total number of records.\n"
   ]
  },
  {
   "cell_type": "code",
   "execution_count": 8,
   "id": "cf4392f8",
   "metadata": {},
   "outputs": [
    {
     "data": {
      "text/plain": [
       "(232230, 17)"
      ]
     },
     "execution_count": 8,
     "metadata": {},
     "output_type": "execute_result"
    }
   ],
   "source": [
    "main_df.shape"
   ]
  },
  {
   "cell_type": "markdown",
   "id": "4db78da3",
   "metadata": {},
   "source": [
    "### Removing Null Values\n",
    "\n",
    "Since the number of null values is small compared to the total dataset size, we decided to remove those rows entirely.\n",
    "\n",
    "This simplifies the analysis and ensures that our visualizations and summaries are based on complete data without significantly affecting the overall results.\n"
   ]
  },
  {
   "cell_type": "code",
   "execution_count": 9,
   "id": "09e5b46d",
   "metadata": {},
   "outputs": [],
   "source": [
    "#Drop nulls\n",
    "\n",
    "main_df.dropna(inplace=True)"
   ]
  },
  {
   "cell_type": "code",
   "execution_count": null,
   "id": "7591f269",
   "metadata": {},
   "outputs": [
    {
     "data": {
      "text/plain": [
       "VIN (1-10)                                           0\n",
       "County                                               0\n",
       "City                                                 0\n",
       "State                                                0\n",
       "Postal Code                                          0\n",
       "Model Year                                           0\n",
       "Make                                                 0\n",
       "Model                                                0\n",
       "Electric Vehicle Type                                0\n",
       "Clean Alternative Fuel Vehicle (CAFV) Eligibility    0\n",
       "Electric Range                                       0\n",
       "Base MSRP                                            0\n",
       "Legislative District                                 0\n",
       "DOL Vehicle ID                                       0\n",
       "Vehicle Location                                     0\n",
       "Electric Utility                                     0\n",
       "2020 Census Tract                                    0\n",
       "dtype: int64"
      ]
     },
     "execution_count": 10,
     "metadata": {},
     "output_type": "execute_result"
    }
   ],
   "source": [
    "#Sanity check to see if nulls were dropped\n",
    "main_df.isnull().sum()"
   ]
  },
  {
   "cell_type": "code",
   "execution_count": null,
   "id": "b25e00f9",
   "metadata": {},
   "outputs": [
    {
     "data": {
      "text/plain": [
       "(231715, 17)"
      ]
     },
     "execution_count": 11,
     "metadata": {},
     "output_type": "execute_result"
    }
   ],
   "source": [
    "#Shape looks good after dropping nulls\n",
    "main_df.shape"
   ]
  },
  {
   "cell_type": "markdown",
   "id": "bb509ce4",
   "metadata": {},
   "source": [
    "### Exploring Electric Vehicle Types by State\n",
    "\n",
    "To better understand how electric vehicles are distributed across the country, we created a subset of the data focusing on the `'Electric Vehicle Type'` column and grouped it by state.\n",
    "\n",
    "This allows us to:\n",
    "- See the frequency of different electric vehicle types (e.g., BEV, PHEV).\n",
    "- Identify which states have higher adoption of each type.\n",
    "- Explore potential regional preferences or trends.\n",
    "\n",
    "We then visualized this distribution using a plot to make the comparison clearer across states.\n"
   ]
  },
  {
   "cell_type": "code",
   "execution_count": 12,
   "id": "31039bf9",
   "metadata": {},
   "outputs": [
    {
     "data": {
      "text/plain": [
       "2"
      ]
     },
     "execution_count": 12,
     "metadata": {},
     "output_type": "execute_result"
    }
   ],
   "source": [
    "main_df['Electric Vehicle Type'].nunique()"
   ]
  },
  {
   "cell_type": "code",
   "execution_count": 13,
   "id": "4bffd60d",
   "metadata": {},
   "outputs": [
    {
     "data": {
      "text/plain": [
       "486"
      ]
     },
     "execution_count": 13,
     "metadata": {},
     "output_type": "execute_result"
    }
   ],
   "source": [
    "main_df['City'].nunique()"
   ]
  },
  {
   "cell_type": "code",
   "execution_count": 14,
   "id": "0d45a4bc",
   "metadata": {},
   "outputs": [
    {
     "data": {
      "text/html": [
       "<div>\n",
       "<style scoped>\n",
       "    .dataframe tbody tr th:only-of-type {\n",
       "        vertical-align: middle;\n",
       "    }\n",
       "\n",
       "    .dataframe tbody tr th {\n",
       "        vertical-align: top;\n",
       "    }\n",
       "\n",
       "    .dataframe thead th {\n",
       "        text-align: right;\n",
       "    }\n",
       "</style>\n",
       "<table border=\"1\" class=\"dataframe\">\n",
       "  <thead>\n",
       "    <tr style=\"text-align: right;\">\n",
       "      <th></th>\n",
       "      <th>City</th>\n",
       "      <th>Electric Vehicle Type</th>\n",
       "      <th>Count</th>\n",
       "    </tr>\n",
       "  </thead>\n",
       "  <tbody>\n",
       "    <tr>\n",
       "      <th>0</th>\n",
       "      <td>Seattle</td>\n",
       "      <td>Battery Electric Vehicle (BEV)</td>\n",
       "      <td>29536</td>\n",
       "    </tr>\n",
       "    <tr>\n",
       "      <th>1</th>\n",
       "      <td>Bellevue</td>\n",
       "      <td>Battery Electric Vehicle (BEV)</td>\n",
       "      <td>9824</td>\n",
       "    </tr>\n",
       "    <tr>\n",
       "      <th>2</th>\n",
       "      <td>Seattle</td>\n",
       "      <td>Plug-in Hybrid Electric Vehicle (PHEV)</td>\n",
       "      <td>7325</td>\n",
       "    </tr>\n",
       "    <tr>\n",
       "      <th>3</th>\n",
       "      <td>Redmond</td>\n",
       "      <td>Battery Electric Vehicle (BEV)</td>\n",
       "      <td>7030</td>\n",
       "    </tr>\n",
       "    <tr>\n",
       "      <th>4</th>\n",
       "      <td>Bothell</td>\n",
       "      <td>Battery Electric Vehicle (BEV)</td>\n",
       "      <td>6635</td>\n",
       "    </tr>\n",
       "    <tr>\n",
       "      <th>5</th>\n",
       "      <td>Vancouver</td>\n",
       "      <td>Battery Electric Vehicle (BEV)</td>\n",
       "      <td>6203</td>\n",
       "    </tr>\n",
       "    <tr>\n",
       "      <th>6</th>\n",
       "      <td>Sammamish</td>\n",
       "      <td>Battery Electric Vehicle (BEV)</td>\n",
       "      <td>5759</td>\n",
       "    </tr>\n",
       "    <tr>\n",
       "      <th>7</th>\n",
       "      <td>Kirkland</td>\n",
       "      <td>Battery Electric Vehicle (BEV)</td>\n",
       "      <td>5590</td>\n",
       "    </tr>\n",
       "    <tr>\n",
       "      <th>8</th>\n",
       "      <td>Renton</td>\n",
       "      <td>Battery Electric Vehicle (BEV)</td>\n",
       "      <td>4916</td>\n",
       "    </tr>\n",
       "    <tr>\n",
       "      <th>9</th>\n",
       "      <td>Olympia</td>\n",
       "      <td>Battery Electric Vehicle (BEV)</td>\n",
       "      <td>4280</td>\n",
       "    </tr>\n",
       "  </tbody>\n",
       "</table>\n",
       "</div>"
      ],
      "text/plain": [
       "        City                   Electric Vehicle Type  Count\n",
       "0    Seattle          Battery Electric Vehicle (BEV)  29536\n",
       "1   Bellevue          Battery Electric Vehicle (BEV)   9824\n",
       "2    Seattle  Plug-in Hybrid Electric Vehicle (PHEV)   7325\n",
       "3    Redmond          Battery Electric Vehicle (BEV)   7030\n",
       "4    Bothell          Battery Electric Vehicle (BEV)   6635\n",
       "5  Vancouver          Battery Electric Vehicle (BEV)   6203\n",
       "6  Sammamish          Battery Electric Vehicle (BEV)   5759\n",
       "7   Kirkland          Battery Electric Vehicle (BEV)   5590\n",
       "8     Renton          Battery Electric Vehicle (BEV)   4916\n",
       "9    Olympia          Battery Electric Vehicle (BEV)   4280"
      ]
     },
     "execution_count": 14,
     "metadata": {},
     "output_type": "execute_result"
    }
   ],
   "source": [
    "#Create a table with the count of different electric vehicle types for different states\n",
    "\n",
    "eletric_type = main_df.groupby(['City'])['Electric Vehicle Type'].value_counts()\n",
    "eletric_type = eletric_type.sort_values(ascending=False)\n",
    "\n",
    "eletric_type_df = eletric_type.reset_index(name='Count')\n",
    "eletric_type_df.head(10)\n"
   ]
  },
  {
   "cell_type": "code",
   "execution_count": 15,
   "id": "e1862f68",
   "metadata": {},
   "outputs": [
    {
     "data": {
      "text/plain": [
       "<matplotlib.legend.Legend at 0x164043950>"
      ]
     },
     "execution_count": 15,
     "metadata": {},
     "output_type": "execute_result"
    },
    {
     "data": {
      "image/png": "[encoded data removed]",
      "text/plain": [
       "<Figure size 1200x600 with 1 Axes>"
      ]
     },
     "metadata": {},
     "output_type": "display_data"
    }
   ],
   "source": [
    "# Create a plot with the top 10 citys with the highest number of counts of vehicles to compare between them\n",
    "\n",
    "top_10 = eletric_type.head(10)\n",
    "top_10 = top_10.reset_index()\n",
    "top_10.columns = ['City', 'Electric Vehicle Type', 'Count']\n",
    "\n",
    "plt.figure(figsize=(12, 6))\n",
    "sns.barplot(x='City', y='Count', hue='Electric Vehicle Type', data=top_10)\n",
    "plt.title('Top 10 citys with the highest number of eletric vehicles')\n",
    "plt.xlabel('City')\n",
    "plt.ylabel('Count')\n",
    "plt.xticks(rotation=45)\n",
    "plt.legend(title='Eletric Vehicle Type')\n"
   ]
  },
  {
   "cell_type": "markdown",
   "id": "6720c6fd",
   "metadata": {},
   "source": [
    "### Top 10 Cities by Electric Vehicle Count\n",
    "\n",
    "We created a bar plot showing the top 10 cities with the highest number of electric vehicles, grouped by electric vehicle type (BEV and PHEV).\n",
    "\n",
    "From the chart, we can observe:\n",
    "\n",
    "- **Seattle** stands out with the highest number of electric vehicles by far.\n",
    "- It’s also the **only city among the top 10** that has a visible count of **Plug-in Hybrid Electric Vehicles (PHEV)**.\n",
    "- All other cities are dominated exclusively by **Battery Electric Vehicles (BEV)**.\n",
    "\n",
    "This suggests a potential **imbalance in the distribution** of electric vehicle types, with BEVs being far more common. To confirm this assumption, we’ll create a plot to visualize the overall distribution between BEV and PHEV across the entire dataset.\n"
   ]
  },
  {
   "cell_type": "code",
   "execution_count": 16,
   "id": "b00de2ff",
   "metadata": {},
   "outputs": [
    {
     "data": {
      "image/png": "[encoded data removed]",
      "text/plain": [
       "<Figure size 1200x600 with 1 Axes>"
      ]
     },
     "metadata": {},
     "output_type": "display_data"
    }
   ],
   "source": [
    "# Lets also check class balance between the different electric vehicle types\n",
    "\n",
    "plt.figure(figsize=(12, 6))\n",
    "sns.countplot(x='Electric Vehicle Type', data=main_df)\n",
    "plt.title('Eletric Type Distribution balance')\n",
    "plt.xlabel('Eletric Type')\n",
    "plt.ylabel('Count')\n",
    "plt.show()\n"
   ]
  },
  {
   "cell_type": "markdown",
   "id": "fe63d48d",
   "metadata": {},
   "source": [
    "### Electric Vehicle Type Distribution\n",
    "\n",
    "To confirm our earlier observation, we plotted the overall distribution of electric vehicle types in the dataset. The chart clearly shows a significant imbalance between the two categories:\n",
    "\n",
    "- **Battery Electric Vehicles (BEV)** make up the majority of the dataset.\n",
    "- **Plug-in Hybrid Electric Vehicles (PHEV)** represent a much smaller portion.\n",
    "\n",
    "This imbalance might be explained by several factors:\n",
    "\n",
    "- BEVs are becoming more popular as charging infrastructure becomes more accessible.\n",
    "- Government incentives often favor fully electric vehicles over hybrids.\n",
    "- In areas with shorter commutes or reliable charging availability, BEVs are a more practical choice.\n",
    "- From a consumer standpoint, owning a BEV aligns more closely with the desire to move away from gas entirely.\n",
    "\n",
    "This trend reflects a broader shift toward fully electric vehicles, especially in urban environments where charging is more feasible.\n"
   ]
  },
  {
   "cell_type": "markdown",
   "id": "e2fd3fe6",
   "metadata": {},
   "source": [
    "### Revisiting the Dataset for Further Exploration\n",
    "\n",
    "Now that we've explored the distribution and differences between the two main types of electric vehicles, we'll do a quick `.head()` again to revisit the dataset.\n",
    "\n",
    "This will help us:\n",
    "\n",
    "- Refresh our view of the available columns.\n",
    "- Identify other features worth exploring.\n",
    "- Plan the next steps in our EDA based on what’s available in the data.\n"
   ]
  },
  {
   "cell_type": "code",
   "execution_count": 17,
   "id": "71dc0abe",
   "metadata": {},
   "outputs": [
    {
     "data": {
      "text/html": [
       "<div>\n",
       "<style scoped>\n",
       "    .dataframe tbody tr th:only-of-type {\n",
       "        vertical-align: middle;\n",
       "    }\n",
       "\n",
       "    .dataframe tbody tr th {\n",
       "        vertical-align: top;\n",
       "    }\n",
       "\n",
       "    .dataframe thead th {\n",
       "        text-align: right;\n",
       "    }\n",
       "</style>\n",
       "<table border=\"1\" class=\"dataframe\">\n",
       "  <thead>\n",
       "    <tr style=\"text-align: right;\">\n",
       "      <th></th>\n",
       "      <th>VIN (1-10)</th>\n",
       "      <th>County</th>\n",
       "      <th>City</th>\n",
       "      <th>State</th>\n",
       "      <th>Postal Code</th>\n",
       "      <th>Model Year</th>\n",
       "      <th>Make</th>\n",
       "      <th>Model</th>\n",
       "      <th>Electric Vehicle Type</th>\n",
       "      <th>Clean Alternative Fuel Vehicle (CAFV) Eligibility</th>\n",
       "      <th>Electric Range</th>\n",
       "      <th>Base MSRP</th>\n",
       "      <th>Legislative District</th>\n",
       "      <th>DOL Vehicle ID</th>\n",
       "      <th>Vehicle Location</th>\n",
       "      <th>Electric Utility</th>\n",
       "      <th>2020 Census Tract</th>\n",
       "    </tr>\n",
       "  </thead>\n",
       "  <tbody>\n",
       "    <tr>\n",
       "      <th>0</th>\n",
       "      <td>2T3YL4DV0E</td>\n",
       "      <td>King</td>\n",
       "      <td>Bellevue</td>\n",
       "      <td>WA</td>\n",
       "      <td>98005.0</td>\n",
       "      <td>2014</td>\n",
       "      <td>TOYOTA</td>\n",
       "      <td>RAV4</td>\n",
       "      <td>Battery Electric Vehicle (BEV)</td>\n",
       "      <td>Clean Alternative Fuel Vehicle Eligible</td>\n",
       "      <td>103.0</td>\n",
       "      <td>0.0</td>\n",
       "      <td>41.0</td>\n",
       "      <td>186450183</td>\n",
       "      <td>POINT (-122.1621 47.64441)</td>\n",
       "      <td>PUGET SOUND ENERGY INC||CITY OF TACOMA - (WA)</td>\n",
       "      <td>5.303302e+10</td>\n",
       "    </tr>\n",
       "    <tr>\n",
       "      <th>1</th>\n",
       "      <td>5YJ3E1EB6K</td>\n",
       "      <td>King</td>\n",
       "      <td>Bothell</td>\n",
       "      <td>WA</td>\n",
       "      <td>98011.0</td>\n",
       "      <td>2019</td>\n",
       "      <td>TESLA</td>\n",
       "      <td>MODEL 3</td>\n",
       "      <td>Battery Electric Vehicle (BEV)</td>\n",
       "      <td>Clean Alternative Fuel Vehicle Eligible</td>\n",
       "      <td>220.0</td>\n",
       "      <td>0.0</td>\n",
       "      <td>1.0</td>\n",
       "      <td>478093654</td>\n",
       "      <td>POINT (-122.20563 47.76144)</td>\n",
       "      <td>PUGET SOUND ENERGY INC||CITY OF TACOMA - (WA)</td>\n",
       "      <td>5.303302e+10</td>\n",
       "    </tr>\n",
       "    <tr>\n",
       "      <th>2</th>\n",
       "      <td>5UX43EU02S</td>\n",
       "      <td>Thurston</td>\n",
       "      <td>Olympia</td>\n",
       "      <td>WA</td>\n",
       "      <td>98502.0</td>\n",
       "      <td>2025</td>\n",
       "      <td>BMW</td>\n",
       "      <td>X5</td>\n",
       "      <td>Plug-in Hybrid Electric Vehicle (PHEV)</td>\n",
       "      <td>Clean Alternative Fuel Vehicle Eligible</td>\n",
       "      <td>40.0</td>\n",
       "      <td>0.0</td>\n",
       "      <td>35.0</td>\n",
       "      <td>274800718</td>\n",
       "      <td>POINT (-122.92333 47.03779)</td>\n",
       "      <td>PUGET SOUND ENERGY INC</td>\n",
       "      <td>5.306701e+10</td>\n",
       "    </tr>\n",
       "    <tr>\n",
       "      <th>3</th>\n",
       "      <td>JTMAB3FV5R</td>\n",
       "      <td>Thurston</td>\n",
       "      <td>Olympia</td>\n",
       "      <td>WA</td>\n",
       "      <td>98513.0</td>\n",
       "      <td>2024</td>\n",
       "      <td>TOYOTA</td>\n",
       "      <td>RAV4 PRIME</td>\n",
       "      <td>Plug-in Hybrid Electric Vehicle (PHEV)</td>\n",
       "      <td>Clean Alternative Fuel Vehicle Eligible</td>\n",
       "      <td>42.0</td>\n",
       "      <td>0.0</td>\n",
       "      <td>2.0</td>\n",
       "      <td>260758165</td>\n",
       "      <td>POINT (-122.81754 46.98876)</td>\n",
       "      <td>PUGET SOUND ENERGY INC</td>\n",
       "      <td>5.306701e+10</td>\n",
       "    </tr>\n",
       "    <tr>\n",
       "      <th>4</th>\n",
       "      <td>5YJYGDEE8M</td>\n",
       "      <td>Yakima</td>\n",
       "      <td>Selah</td>\n",
       "      <td>WA</td>\n",
       "      <td>98942.0</td>\n",
       "      <td>2021</td>\n",
       "      <td>TESLA</td>\n",
       "      <td>MODEL Y</td>\n",
       "      <td>Battery Electric Vehicle (BEV)</td>\n",
       "      <td>Eligibility unknown as battery range has not b...</td>\n",
       "      <td>0.0</td>\n",
       "      <td>0.0</td>\n",
       "      <td>15.0</td>\n",
       "      <td>236581355</td>\n",
       "      <td>POINT (-120.53145 46.65405)</td>\n",
       "      <td>PACIFICORP</td>\n",
       "      <td>5.307700e+10</td>\n",
       "    </tr>\n",
       "    <tr>\n",
       "      <th>5</th>\n",
       "      <td>3C3CFFGE1G</td>\n",
       "      <td>Thurston</td>\n",
       "      <td>Olympia</td>\n",
       "      <td>WA</td>\n",
       "      <td>98501.0</td>\n",
       "      <td>2016</td>\n",
       "      <td>FIAT</td>\n",
       "      <td>500</td>\n",
       "      <td>Battery Electric Vehicle (BEV)</td>\n",
       "      <td>Clean Alternative Fuel Vehicle Eligible</td>\n",
       "      <td>84.0</td>\n",
       "      <td>0.0</td>\n",
       "      <td>22.0</td>\n",
       "      <td>294762219</td>\n",
       "      <td>POINT (-122.89166 47.03956)</td>\n",
       "      <td>PUGET SOUND ENERGY INC</td>\n",
       "      <td>5.306701e+10</td>\n",
       "    </tr>\n",
       "    <tr>\n",
       "      <th>6</th>\n",
       "      <td>5YJ3E1EA4J</td>\n",
       "      <td>Snohomish</td>\n",
       "      <td>Marysville</td>\n",
       "      <td>WA</td>\n",
       "      <td>98271.0</td>\n",
       "      <td>2018</td>\n",
       "      <td>TESLA</td>\n",
       "      <td>MODEL 3</td>\n",
       "      <td>Battery Electric Vehicle (BEV)</td>\n",
       "      <td>Clean Alternative Fuel Vehicle Eligible</td>\n",
       "      <td>215.0</td>\n",
       "      <td>0.0</td>\n",
       "      <td>39.0</td>\n",
       "      <td>270125096</td>\n",
       "      <td>POINT (-122.1677 48.11026)</td>\n",
       "      <td>PUGET SOUND ENERGY INC</td>\n",
       "      <td>5.306105e+10</td>\n",
       "    </tr>\n",
       "    <tr>\n",
       "      <th>7</th>\n",
       "      <td>5YJ3E1EA3K</td>\n",
       "      <td>King</td>\n",
       "      <td>Seattle</td>\n",
       "      <td>WA</td>\n",
       "      <td>98102.0</td>\n",
       "      <td>2019</td>\n",
       "      <td>TESLA</td>\n",
       "      <td>MODEL 3</td>\n",
       "      <td>Battery Electric Vehicle (BEV)</td>\n",
       "      <td>Clean Alternative Fuel Vehicle Eligible</td>\n",
       "      <td>220.0</td>\n",
       "      <td>0.0</td>\n",
       "      <td>43.0</td>\n",
       "      <td>238776492</td>\n",
       "      <td>POINT (-122.32427 47.63433)</td>\n",
       "      <td>CITY OF SEATTLE - (WA)|CITY OF TACOMA - (WA)</td>\n",
       "      <td>5.303301e+10</td>\n",
       "    </tr>\n",
       "    <tr>\n",
       "      <th>8</th>\n",
       "      <td>1N4AZ0CP5E</td>\n",
       "      <td>Thurston</td>\n",
       "      <td>Yelm</td>\n",
       "      <td>WA</td>\n",
       "      <td>98597.0</td>\n",
       "      <td>2014</td>\n",
       "      <td>NISSAN</td>\n",
       "      <td>LEAF</td>\n",
       "      <td>Battery Electric Vehicle (BEV)</td>\n",
       "      <td>Clean Alternative Fuel Vehicle Eligible</td>\n",
       "      <td>84.0</td>\n",
       "      <td>0.0</td>\n",
       "      <td>2.0</td>\n",
       "      <td>257246118</td>\n",
       "      <td>POINT (-122.60735 46.94239)</td>\n",
       "      <td>PUGET SOUND ENERGY INC</td>\n",
       "      <td>5.306701e+10</td>\n",
       "    </tr>\n",
       "    <tr>\n",
       "      <th>9</th>\n",
       "      <td>5YJSA1S25F</td>\n",
       "      <td>Thurston</td>\n",
       "      <td>Yelm</td>\n",
       "      <td>WA</td>\n",
       "      <td>98597.0</td>\n",
       "      <td>2015</td>\n",
       "      <td>TESLA</td>\n",
       "      <td>MODEL S</td>\n",
       "      <td>Battery Electric Vehicle (BEV)</td>\n",
       "      <td>Clean Alternative Fuel Vehicle Eligible</td>\n",
       "      <td>208.0</td>\n",
       "      <td>0.0</td>\n",
       "      <td>2.0</td>\n",
       "      <td>161974606</td>\n",
       "      <td>POINT (-122.60735 46.94239)</td>\n",
       "      <td>PUGET SOUND ENERGY INC</td>\n",
       "      <td>5.306701e+10</td>\n",
       "    </tr>\n",
       "  </tbody>\n",
       "</table>\n",
       "</div>"
      ],
      "text/plain": [
       "   VIN (1-10)     County        City State  Postal Code  Model Year    Make  \\\n",
       "0  2T3YL4DV0E       King    Bellevue    WA      98005.0        2014  TOYOTA   \n",
       "1  5YJ3E1EB6K       King     Bothell    WA      98011.0        2019   TESLA   \n",
       "2  5UX43EU02S   Thurston     Olympia    WA      98502.0        2025     BMW   \n",
       "3  JTMAB3FV5R   Thurston     Olympia    WA      98513.0        2024  TOYOTA   \n",
       "4  5YJYGDEE8M     Yakima       Selah    WA      98942.0        2021   TESLA   \n",
       "5  3C3CFFGE1G   Thurston     Olympia    WA      98501.0        2016    FIAT   \n",
       "6  5YJ3E1EA4J  Snohomish  Marysville    WA      98271.0        2018   TESLA   \n",
       "7  5YJ3E1EA3K       King     Seattle    WA      98102.0        2019   TESLA   \n",
       "8  1N4AZ0CP5E   Thurston        Yelm    WA      98597.0        2014  NISSAN   \n",
       "9  5YJSA1S25F   Thurston        Yelm    WA      98597.0        2015   TESLA   \n",
       "\n",
       "        Model                   Electric Vehicle Type  \\\n",
       "0        RAV4          Battery Electric Vehicle (BEV)   \n",
       "1     MODEL 3          Battery Electric Vehicle (BEV)   \n",
       "2          X5  Plug-in Hybrid Electric Vehicle (PHEV)   \n",
       "3  RAV4 PRIME  Plug-in Hybrid Electric Vehicle (PHEV)   \n",
       "4     MODEL Y          Battery Electric Vehicle (BEV)   \n",
       "5         500          Battery Electric Vehicle (BEV)   \n",
       "6     MODEL 3          Battery Electric Vehicle (BEV)   \n",
       "7     MODEL 3          Battery Electric Vehicle (BEV)   \n",
       "8        LEAF          Battery Electric Vehicle (BEV)   \n",
       "9     MODEL S          Battery Electric Vehicle (BEV)   \n",
       "\n",
       "   Clean Alternative Fuel Vehicle (CAFV) Eligibility  Electric Range  \\\n",
       "0            Clean Alternative Fuel Vehicle Eligible           103.0   \n",
       "1            Clean Alternative Fuel Vehicle Eligible           220.0   \n",
       "2            Clean Alternative Fuel Vehicle Eligible            40.0   \n",
       "3            Clean Alternative Fuel Vehicle Eligible            42.0   \n",
       "4  Eligibility unknown as battery range has not b...             0.0   \n",
       "5            Clean Alternative Fuel Vehicle Eligible            84.0   \n",
       "6            Clean Alternative Fuel Vehicle Eligible           215.0   \n",
       "7            Clean Alternative Fuel Vehicle Eligible           220.0   \n",
       "8            Clean Alternative Fuel Vehicle Eligible            84.0   \n",
       "9            Clean Alternative Fuel Vehicle Eligible           208.0   \n",
       "\n",
       "   Base MSRP  Legislative District  DOL Vehicle ID  \\\n",
       "0        0.0                  41.0       186450183   \n",
       "1        0.0                   1.0       478093654   \n",
       "2        0.0                  35.0       274800718   \n",
       "3        0.0                   2.0       260758165   \n",
       "4        0.0                  15.0       236581355   \n",
       "5        0.0                  22.0       294762219   \n",
       "6        0.0                  39.0       270125096   \n",
       "7        0.0                  43.0       238776492   \n",
       "8        0.0                   2.0       257246118   \n",
       "9        0.0                   2.0       161974606   \n",
       "\n",
       "              Vehicle Location                               Electric Utility  \\\n",
       "0   POINT (-122.1621 47.64441)  PUGET SOUND ENERGY INC||CITY OF TACOMA - (WA)   \n",
       "1  POINT (-122.20563 47.76144)  PUGET SOUND ENERGY INC||CITY OF TACOMA - (WA)   \n",
       "2  POINT (-122.92333 47.03779)                         PUGET SOUND ENERGY INC   \n",
       "3  POINT (-122.81754 46.98876)                         PUGET SOUND ENERGY INC   \n",
       "4  POINT (-120.53145 46.65405)                                     PACIFICORP   \n",
       "5  POINT (-122.89166 47.03956)                         PUGET SOUND ENERGY INC   \n",
       "6   POINT (-122.1677 48.11026)                         PUGET SOUND ENERGY INC   \n",
       "7  POINT (-122.32427 47.63433)   CITY OF SEATTLE - (WA)|CITY OF TACOMA - (WA)   \n",
       "8  POINT (-122.60735 46.94239)                         PUGET SOUND ENERGY INC   \n",
       "9  POINT (-122.60735 46.94239)                         PUGET SOUND ENERGY INC   \n",
       "\n",
       "   2020 Census Tract  \n",
       "0       5.303302e+10  \n",
       "1       5.303302e+10  \n",
       "2       5.306701e+10  \n",
       "3       5.306701e+10  \n",
       "4       5.307700e+10  \n",
       "5       5.306701e+10  \n",
       "6       5.306105e+10  \n",
       "7       5.303301e+10  \n",
       "8       5.306701e+10  \n",
       "9       5.306701e+10  "
      ]
     },
     "execution_count": 17,
     "metadata": {},
     "output_type": "execute_result"
    }
   ],
   "source": [
    "main_df.head(10)"
   ]
  },
  {
   "cell_type": "markdown",
   "id": "31d366b4",
   "metadata": {},
   "source": [
    "### Electric Vehicle Counts by Make\n",
    "\n",
    "Next, we’ll explore the dataset by vehicle **Make** to understand:\n",
    "\n",
    "- Which manufacturers have the highest number of electric vehicles in the dataset.\n",
    "- How each make is distributed between **Battery Electric Vehicles (BEV)** and **Plug-in Hybrid Electric Vehicles (PHEV)**.\n",
    "\n",
    "To do this, we’ll:\n",
    "\n",
    "1. Create a subset table that groups vehicle counts by `Make` and `Electric Vehicle Type`.\n",
    "2. Visualize the results with a bar plot to easily compare the distribution across manufacturers.\n"
   ]
  },
  {
   "cell_type": "code",
   "execution_count": 18,
   "id": "c4362c53",
   "metadata": {},
   "outputs": [
    {
     "data": {
      "text/html": [
       "<div>\n",
       "<style scoped>\n",
       "    .dataframe tbody tr th:only-of-type {\n",
       "        vertical-align: middle;\n",
       "    }\n",
       "\n",
       "    .dataframe tbody tr th {\n",
       "        vertical-align: top;\n",
       "    }\n",
       "\n",
       "    .dataframe thead th {\n",
       "        text-align: right;\n",
       "    }\n",
       "</style>\n",
       "<table border=\"1\" class=\"dataframe\">\n",
       "  <thead>\n",
       "    <tr style=\"text-align: right;\">\n",
       "      <th></th>\n",
       "      <th>Make</th>\n",
       "      <th>Electric Vehicle Type</th>\n",
       "      <th>Count</th>\n",
       "    </tr>\n",
       "  </thead>\n",
       "  <tbody>\n",
       "    <tr>\n",
       "      <th>0</th>\n",
       "      <td>TESLA</td>\n",
       "      <td>Battery Electric Vehicle (BEV)</td>\n",
       "      <td>99455</td>\n",
       "    </tr>\n",
       "    <tr>\n",
       "      <th>1</th>\n",
       "      <td>NISSAN</td>\n",
       "      <td>Battery Electric Vehicle (BEV)</td>\n",
       "      <td>15447</td>\n",
       "    </tr>\n",
       "    <tr>\n",
       "      <th>2</th>\n",
       "      <td>CHEVROLET</td>\n",
       "      <td>Battery Electric Vehicle (BEV)</td>\n",
       "      <td>12136</td>\n",
       "    </tr>\n",
       "    <tr>\n",
       "      <th>3</th>\n",
       "      <td>FORD</td>\n",
       "      <td>Battery Electric Vehicle (BEV)</td>\n",
       "      <td>8701</td>\n",
       "    </tr>\n",
       "    <tr>\n",
       "      <th>4</th>\n",
       "      <td>KIA</td>\n",
       "      <td>Battery Electric Vehicle (BEV)</td>\n",
       "      <td>8019</td>\n",
       "    </tr>\n",
       "    <tr>\n",
       "      <th>5</th>\n",
       "      <td>TOYOTA</td>\n",
       "      <td>Plug-in Hybrid Electric Vehicle (PHEV)</td>\n",
       "      <td>7914</td>\n",
       "    </tr>\n",
       "    <tr>\n",
       "      <th>6</th>\n",
       "      <td>RIVIAN</td>\n",
       "      <td>Battery Electric Vehicle (BEV)</td>\n",
       "      <td>6699</td>\n",
       "    </tr>\n",
       "    <tr>\n",
       "      <th>7</th>\n",
       "      <td>HYUNDAI</td>\n",
       "      <td>Battery Electric Vehicle (BEV)</td>\n",
       "      <td>6160</td>\n",
       "    </tr>\n",
       "    <tr>\n",
       "      <th>8</th>\n",
       "      <td>JEEP</td>\n",
       "      <td>Plug-in Hybrid Electric Vehicle (PHEV)</td>\n",
       "      <td>5899</td>\n",
       "    </tr>\n",
       "    <tr>\n",
       "      <th>9</th>\n",
       "      <td>VOLKSWAGEN</td>\n",
       "      <td>Battery Electric Vehicle (BEV)</td>\n",
       "      <td>5848</td>\n",
       "    </tr>\n",
       "  </tbody>\n",
       "</table>\n",
       "</div>"
      ],
      "text/plain": [
       "         Make                   Electric Vehicle Type  Count\n",
       "0       TESLA          Battery Electric Vehicle (BEV)  99455\n",
       "1      NISSAN          Battery Electric Vehicle (BEV)  15447\n",
       "2   CHEVROLET          Battery Electric Vehicle (BEV)  12136\n",
       "3        FORD          Battery Electric Vehicle (BEV)   8701\n",
       "4         KIA          Battery Electric Vehicle (BEV)   8019\n",
       "5      TOYOTA  Plug-in Hybrid Electric Vehicle (PHEV)   7914\n",
       "6      RIVIAN          Battery Electric Vehicle (BEV)   6699\n",
       "7     HYUNDAI          Battery Electric Vehicle (BEV)   6160\n",
       "8        JEEP  Plug-in Hybrid Electric Vehicle (PHEV)   5899\n",
       "9  VOLKSWAGEN          Battery Electric Vehicle (BEV)   5848"
      ]
     },
     "execution_count": 18,
     "metadata": {},
     "output_type": "execute_result"
    }
   ],
   "source": [
    "# create table with the cont of eletric cars per Make divided by the different electric vehicle types\n",
    "\n",
    "make_df = main_df.groupby(['Make'])['Electric Vehicle Type'].value_counts()\n",
    "make_df = make_df.sort_values(ascending=False)\n",
    "make_df = make_df.reset_index(name='Count')\n",
    "make_df.head(10)"
   ]
  },
  {
   "cell_type": "code",
   "execution_count": 19,
   "id": "b5689605",
   "metadata": {},
   "outputs": [
    {
     "data": {
      "image/png": "[encoded data removed]",
      "text/plain": [
       "<Figure size 1200x600 with 1 Axes>"
      ]
     },
     "metadata": {},
     "output_type": "display_data"
    }
   ],
   "source": [
    "# Create a plot with the top 10 makes with the highest number of counts of vehicles to compare between them\n",
    "\n",
    "top_10_make = make_df.head(10)\n",
    "top_10_make = top_10_make.reset_index()\n",
    "\n",
    "plt.figure(figsize=(12, 6))\n",
    "sns.barplot(x='Make', y='Count', hue='Electric Vehicle Type', data=top_10_make)\n",
    "plt.title('Top 10 makes with the highest number of eletric vehicles')\n",
    "plt.xlabel('Make')\n",
    "plt.ylabel('Count')\n",
    "plt.show()"
   ]
  },
  {
   "cell_type": "markdown",
   "id": "b2613964",
   "metadata": {},
   "source": [
    "### Top 10 Makes with the Highest Number of Electric Vehicles\n",
    "\n",
    "The plot above shows the top 10 vehicle manufacturers in terms of electric vehicle counts. A few key takeaways:\n",
    "\n",
    "- **Tesla** dominates the dataset with a significantly higher number of electric vehicles than any other make. This is expected, as Tesla specializes exclusively in fully electric vehicles (BEVs).\n",
    "- Most other manufacturers show a much smaller presence, and only a couple (like Toyota and Jeep) have notable counts of **Plug-in Hybrid Electric Vehicles (PHEVs)**.\n",
    "\n",
    "Given Tesla’s overwhelming presence in the dataset, the next logical step is to explore the **specific Tesla models** that appear most frequently.\n",
    "\n",
    "This might help identify:\n",
    "- Which Tesla models are most popular.\n",
    "- Whether a particular model is driving their market dominance.\n",
    "\n",
    "Additionally, we’ll look into the **electric range** associated with each Tesla model to see if driving range plays a role in consumer choice.\n"
   ]
  },
  {
   "cell_type": "code",
   "execution_count": 20,
   "id": "ea0da6ce",
   "metadata": {},
   "outputs": [
    {
     "data": {
      "text/html": [
       "<div>\n",
       "<style scoped>\n",
       "    .dataframe tbody tr th:only-of-type {\n",
       "        vertical-align: middle;\n",
       "    }\n",
       "\n",
       "    .dataframe tbody tr th {\n",
       "        vertical-align: top;\n",
       "    }\n",
       "\n",
       "    .dataframe thead th {\n",
       "        text-align: right;\n",
       "    }\n",
       "</style>\n",
       "<table border=\"1\" class=\"dataframe\">\n",
       "  <thead>\n",
       "    <tr style=\"text-align: right;\">\n",
       "      <th></th>\n",
       "      <th>Model</th>\n",
       "      <th>Count</th>\n",
       "      <th>Electric Range</th>\n",
       "    </tr>\n",
       "  </thead>\n",
       "  <tbody>\n",
       "    <tr>\n",
       "      <th>4</th>\n",
       "      <td>MODEL Y</td>\n",
       "      <td>48390</td>\n",
       "      <td>14.168134</td>\n",
       "    </tr>\n",
       "    <tr>\n",
       "      <th>1</th>\n",
       "      <td>MODEL 3</td>\n",
       "      <td>35530</td>\n",
       "      <td>91.677512</td>\n",
       "    </tr>\n",
       "    <tr>\n",
       "      <th>2</th>\n",
       "      <td>MODEL S</td>\n",
       "      <td>7838</td>\n",
       "      <td>169.919750</td>\n",
       "    </tr>\n",
       "    <tr>\n",
       "      <th>3</th>\n",
       "      <td>MODEL X</td>\n",
       "      <td>6453</td>\n",
       "      <td>122.247637</td>\n",
       "    </tr>\n",
       "    <tr>\n",
       "      <th>0</th>\n",
       "      <td>CYBERTRUCK</td>\n",
       "      <td>1195</td>\n",
       "      <td>0.000000</td>\n",
       "    </tr>\n",
       "  </tbody>\n",
       "</table>\n",
       "</div>"
      ],
      "text/plain": [
       "        Model  Count  Electric Range\n",
       "4     MODEL Y  48390       14.168134\n",
       "1     MODEL 3  35530       91.677512\n",
       "2     MODEL S   7838      169.919750\n",
       "3     MODEL X   6453      122.247637\n",
       "0  CYBERTRUCK   1195        0.000000"
      ]
     },
     "execution_count": 20,
     "metadata": {},
     "output_type": "execute_result"
    }
   ],
   "source": [
    "#Just for Tesla cars we will count the number of cars by model and also display the eletric range\n",
    "\n",
    "tesla_df = main_df[main_df['Make'] == 'TESLA']\n",
    "tesla_df = tesla_df.groupby(['Model'])['Electric Range']\n",
    "tesla_df = tesla_df.agg(['count', 'mean']).reset_index()\n",
    "tesla_df.columns = ['Model', 'Count', 'Electric Range']\n",
    "tesla_df = tesla_df.sort_values(by='Count', ascending=False)\n",
    "tesla_df.head()"
   ]
  },
  {
   "cell_type": "markdown",
   "id": "6ca8b6d2",
   "metadata": {},
   "source": [
    "### Tesla Models and Electric Range\n",
    "\n",
    "We filtered the dataset to include only Tesla vehicles and grouped them by model, calculating both the number of vehicles and their average electric range.\n",
    "\n",
    "Key observations:\n",
    "\n",
    "- **Model Y** is the most common Tesla model in the dataset, followed by **Model 3**.\n",
    "- Interestingly, the **electric range** doesn’t appear to be a major deciding factor in model popularity. For example, Model Y has the lowest average range among Tesla models but the highest count.\n",
    "- This suggests that **price** or **affordability** may play a more important role in consumer decisions — lower-priced models tend to be more popular, while higher-end models like **Model S** and **Model X** have fewer entries.\n",
    "\n",
    "To explore whether this pattern holds for other brands, we’ll now analyze vehicle models from **Nissan** and **Chevrolet**, and compare their electric range and popularity.\n",
    "\n"
   ]
  },
  {
   "cell_type": "code",
   "execution_count": 21,
   "id": "cfb1e2e2",
   "metadata": {},
   "outputs": [
    {
     "data": {
      "text/html": [
       "<div>\n",
       "<style scoped>\n",
       "    .dataframe tbody tr th:only-of-type {\n",
       "        vertical-align: middle;\n",
       "    }\n",
       "\n",
       "    .dataframe tbody tr th {\n",
       "        vertical-align: top;\n",
       "    }\n",
       "\n",
       "    .dataframe thead th {\n",
       "        text-align: right;\n",
       "    }\n",
       "</style>\n",
       "<table border=\"1\" class=\"dataframe\">\n",
       "  <thead>\n",
       "    <tr style=\"text-align: right;\">\n",
       "      <th></th>\n",
       "      <th>Model</th>\n",
       "      <th>Count</th>\n",
       "      <th>Electric Range</th>\n",
       "    </tr>\n",
       "  </thead>\n",
       "  <tbody>\n",
       "    <tr>\n",
       "      <th>1</th>\n",
       "      <td>LEAF</td>\n",
       "      <td>13814</td>\n",
       "      <td>79.001593</td>\n",
       "    </tr>\n",
       "    <tr>\n",
       "      <th>0</th>\n",
       "      <td>ARIYA</td>\n",
       "      <td>1633</td>\n",
       "      <td>0.000000</td>\n",
       "    </tr>\n",
       "  </tbody>\n",
       "</table>\n",
       "</div>"
      ],
      "text/plain": [
       "   Model  Count  Electric Range\n",
       "1   LEAF  13814       79.001593\n",
       "0  ARIYA   1633        0.000000"
      ]
     },
     "execution_count": 21,
     "metadata": {},
     "output_type": "execute_result"
    }
   ],
   "source": [
    "# Just for Nissan cars we will count the number of cars by model and also display the eletric range\n",
    "\n",
    "nissan_df = main_df[main_df['Make'] == 'NISSAN']\n",
    "nissan_df = nissan_df.groupby(['Model'])['Electric Range']\n",
    "nissan_df = nissan_df.agg(['count', 'mean'])\n",
    "nissan_df = nissan_df.reset_index()\n",
    "nissan_df.columns = ['Model', 'Count', 'Electric Range']\n",
    "nissan_df = nissan_df.sort_values(by='Count', ascending=False)\n",
    "nissan_df.head()"
   ]
  },
  {
   "cell_type": "code",
   "execution_count": 22,
   "id": "c5adde30",
   "metadata": {},
   "outputs": [
    {
     "data": {
      "text/html": [
       "<div>\n",
       "<style scoped>\n",
       "    .dataframe tbody tr th:only-of-type {\n",
       "        vertical-align: middle;\n",
       "    }\n",
       "\n",
       "    .dataframe tbody tr th {\n",
       "        vertical-align: top;\n",
       "    }\n",
       "\n",
       "    .dataframe thead th {\n",
       "        text-align: right;\n",
       "    }\n",
       "</style>\n",
       "<table border=\"1\" class=\"dataframe\">\n",
       "  <thead>\n",
       "    <tr style=\"text-align: right;\">\n",
       "      <th></th>\n",
       "      <th>Model</th>\n",
       "      <th>Count</th>\n",
       "      <th>Electric Range</th>\n",
       "    </tr>\n",
       "  </thead>\n",
       "  <tbody>\n",
       "    <tr>\n",
       "      <th>2</th>\n",
       "      <td>BOLT EV</td>\n",
       "      <td>7152</td>\n",
       "      <td>167.277685</td>\n",
       "    </tr>\n",
       "    <tr>\n",
       "      <th>7</th>\n",
       "      <td>VOLT</td>\n",
       "      <td>4756</td>\n",
       "      <td>45.406644</td>\n",
       "    </tr>\n",
       "    <tr>\n",
       "      <th>1</th>\n",
       "      <td>BOLT EUV</td>\n",
       "      <td>2853</td>\n",
       "      <td>0.000000</td>\n",
       "    </tr>\n",
       "    <tr>\n",
       "      <th>0</th>\n",
       "      <td>BLAZER EV</td>\n",
       "      <td>815</td>\n",
       "      <td>0.000000</td>\n",
       "    </tr>\n",
       "    <tr>\n",
       "      <th>4</th>\n",
       "      <td>EQUINOX EV</td>\n",
       "      <td>788</td>\n",
       "      <td>0.000000</td>\n",
       "    </tr>\n",
       "  </tbody>\n",
       "</table>\n",
       "</div>"
      ],
      "text/plain": [
       "        Model  Count  Electric Range\n",
       "2     BOLT EV   7152      167.277685\n",
       "7        VOLT   4756       45.406644\n",
       "1    BOLT EUV   2853        0.000000\n",
       "0   BLAZER EV    815        0.000000\n",
       "4  EQUINOX EV    788        0.000000"
      ]
     },
     "execution_count": 22,
     "metadata": {},
     "output_type": "execute_result"
    }
   ],
   "source": [
    "# Just for Chevrolet cars we will count the number of cars by model and also display the eletric range\n",
    "\n",
    "chevrolet_df = main_df[main_df['Make'] == 'CHEVROLET']\n",
    "chevrolet_df = chevrolet_df.groupby(['Model'])['Electric Range']\n",
    "chevrolet_df = chevrolet_df.agg(['count', 'mean']).reset_index()\n",
    "chevrolet_df.columns = ['Model', 'Count', 'Electric Range']\n",
    "chevrolet_df = chevrolet_df.sort_values(by='Count', ascending=False)\n",
    "chevrolet_df.head()\n"
   ]
  },
  {
   "cell_type": "markdown",
   "id": "86271f95",
   "metadata": {},
   "source": [
    "### Nissan and Chevrolet: Model Counts and Electric Range\n",
    "\n",
    "After analyzing Tesla, we extended our exploration to **Nissan** and **Chevrolet** to see if similar trends hold between model popularity and electric range.\n",
    "\n",
    "#### Nissan\n",
    "- The **Nissan LEAF** is by far the most popular model in the dataset, with a decent average electric range (~79 miles).\n",
    "- The **Nissan ARIYA**, while likely newer or less adopted at the time of data collection, has a much lower count and shows an electric range of zero (possibly due to missing or unrecorded data).\n",
    "\n",
    "#### Chevrolet\n",
    "- The **Chevrolet Bolt EV** is the most common model, with a high average range (~167 miles).\n",
    "- Other models like the **Volt** and **Bolt EUV** follow in popularity but show lower or missing electric range values.\n",
    "- Less common models like **Blazer EV** and **Equinox EV** have very few entries and also lack range data.\n",
    "\n",
    "#### Interpretation\n",
    "Unlike Tesla, where range didn't appear to be a strong factor in model popularity, **Nissan and Chevrolet show a clearer correlation** between higher electric range and higher model adoption. This could indicate that:\n",
    "\n",
    "- **Electric range is a more decisive factor** for consumers considering non-Tesla brands.\n",
    "- Price still plays a role, but consumers may expect more range from electric models outside the premium Tesla brand.\n",
    "- Some newer or less common models might not yet have reliable range data, which affects our ability to draw conclusions for them.\n",
    "\n",
    "Next, we can explore geographic patterns or trends over time to further support or challenge these insights.\n"
   ]
  },
  {
   "cell_type": "markdown",
   "id": "dad1054e",
   "metadata": {},
   "source": [
    "### Tesla Distribution by City\n",
    "\n",
    "Since **Tesla** is the most common make in the dataset, it's valuable to examine how Tesla vehicles are distributed across different cities.\n",
    "\n",
    "By doing this, we aim to:\n",
    "\n",
    "- Understand which cities have the highest concentration of Tesla vehicles.\n",
    "- Compare Tesla's presence to the overall distribution of electric vehicles in those same cities.\n",
    "- Identify whether Tesla's dominance is consistent across regions or concentrated in specific urban centers.\n",
    "\n",
    "This comparison will help us evaluate whether Tesla's popularity follows the same geographic trends as electric vehicles in general, or if it has unique patterns of adoption.\n"
   ]
  },
  {
   "cell_type": "code",
   "execution_count": 23,
   "id": "3bac9d9e",
   "metadata": {},
   "outputs": [
    {
     "data": {
      "text/html": [
       "<div>\n",
       "<style scoped>\n",
       "    .dataframe tbody tr th:only-of-type {\n",
       "        vertical-align: middle;\n",
       "    }\n",
       "\n",
       "    .dataframe tbody tr th {\n",
       "        vertical-align: top;\n",
       "    }\n",
       "\n",
       "    .dataframe thead th {\n",
       "        text-align: right;\n",
       "    }\n",
       "</style>\n",
       "<table border=\"1\" class=\"dataframe\">\n",
       "  <thead>\n",
       "    <tr style=\"text-align: right;\">\n",
       "      <th></th>\n",
       "      <th>City</th>\n",
       "      <th>Make</th>\n",
       "      <th>Count</th>\n",
       "    </tr>\n",
       "  </thead>\n",
       "  <tbody>\n",
       "    <tr>\n",
       "      <th>0</th>\n",
       "      <td>Seattle</td>\n",
       "      <td>TESLA</td>\n",
       "      <td>13599</td>\n",
       "    </tr>\n",
       "    <tr>\n",
       "      <th>1</th>\n",
       "      <td>Bellevue</td>\n",
       "      <td>TESLA</td>\n",
       "      <td>6670</td>\n",
       "    </tr>\n",
       "    <tr>\n",
       "      <th>2</th>\n",
       "      <td>Redmond</td>\n",
       "      <td>TESLA</td>\n",
       "      <td>4687</td>\n",
       "    </tr>\n",
       "    <tr>\n",
       "      <th>3</th>\n",
       "      <td>Bothell</td>\n",
       "      <td>TESLA</td>\n",
       "      <td>4407</td>\n",
       "    </tr>\n",
       "    <tr>\n",
       "      <th>4</th>\n",
       "      <td>Sammamish</td>\n",
       "      <td>TESLA</td>\n",
       "      <td>4012</td>\n",
       "    </tr>\n",
       "    <tr>\n",
       "      <th>5</th>\n",
       "      <td>Kirkland</td>\n",
       "      <td>TESLA</td>\n",
       "      <td>3398</td>\n",
       "    </tr>\n",
       "    <tr>\n",
       "      <th>6</th>\n",
       "      <td>Vancouver</td>\n",
       "      <td>TESLA</td>\n",
       "      <td>3283</td>\n",
       "    </tr>\n",
       "    <tr>\n",
       "      <th>7</th>\n",
       "      <td>Renton</td>\n",
       "      <td>TESLA</td>\n",
       "      <td>3131</td>\n",
       "    </tr>\n",
       "    <tr>\n",
       "      <th>8</th>\n",
       "      <td>Kent</td>\n",
       "      <td>TESLA</td>\n",
       "      <td>2163</td>\n",
       "    </tr>\n",
       "    <tr>\n",
       "      <th>9</th>\n",
       "      <td>Lynnwood</td>\n",
       "      <td>TESLA</td>\n",
       "      <td>2117</td>\n",
       "    </tr>\n",
       "  </tbody>\n",
       "</table>\n",
       "</div>"
      ],
      "text/plain": [
       "        City   Make  Count\n",
       "0    Seattle  TESLA  13599\n",
       "1   Bellevue  TESLA   6670\n",
       "2    Redmond  TESLA   4687\n",
       "3    Bothell  TESLA   4407\n",
       "4  Sammamish  TESLA   4012\n",
       "5   Kirkland  TESLA   3398\n",
       "6  Vancouver  TESLA   3283\n",
       "7     Renton  TESLA   3131\n",
       "8       Kent  TESLA   2163\n",
       "9   Lynnwood  TESLA   2117"
      ]
     },
     "execution_count": 23,
     "metadata": {},
     "output_type": "execute_result"
    }
   ],
   "source": [
    "# Create a table with count of  tesla cars for each city\n",
    "\n",
    "tesla_city_df = main_df[main_df['Make'] == 'TESLA']\n",
    "tesla_city_df = tesla_city_df.groupby(['City'])['Make'].value_counts()\n",
    "tesla_city_df = tesla_city_df.sort_values(ascending=False)\n",
    "tesla_city_df = tesla_city_df.reset_index(name='Count')\n",
    "tesla_city_df.columns = ['City', 'Make', 'Count']\n",
    "tesla_city_df.head(10)\n"
   ]
  },
  {
   "cell_type": "code",
   "execution_count": 24,
   "id": "d55a8475",
   "metadata": {},
   "outputs": [
    {
     "data": {
      "image/png": "[encoded data removed]",
      "text/plain": [
       "<Figure size 1200x600 with 1 Axes>"
      ]
     },
     "metadata": {},
     "output_type": "display_data"
    }
   ],
   "source": [
    "#Now create a plot with the top 10 citys with the highest number of counts of tesla cars to compare between them\n",
    "\n",
    "top_10_tesla = tesla_city_df.head(10)\n",
    "top_10_tesla = top_10_tesla.reset_index()\n",
    "top_10_tesla = top_10_tesla[['City', 'Make', 'Count']]\n",
    "plt.figure(figsize=(12, 6))\n",
    "sns.barplot(x='City', y='Count', hue='Make', data=top_10_tesla)\n",
    "plt.title('Top 10 citys with the highest number of tesla cars')\n",
    "plt.xlabel('City')\n",
    "plt.ylabel('Count')\n",
    "plt.xticks(rotation=45)\n",
    "plt.legend(title='Make')\n",
    "plt.show()"
   ]
  },
  {
   "cell_type": "markdown",
   "id": "3ee849fb",
   "metadata": {},
   "source": [
    "## Tesla Vehicle Distribution by City\n",
    "\n",
    "We filtered the dataset to show the top 10 cities with the highest number of Tesla vehicles. The chart highlights the geographic distribution of Tesla cars and provides an interesting comparison to the general electric vehicle distribution explored earlier.\n",
    "\n",
    "#### Key Observations:\n",
    "- **Seattle** remains the city with the highest number of Tesla vehicles, followed by **Bellevue**, **Redmond**, and others.\n",
    "- However, **Vancouver**, which ranked higher in the overall electric vehicle distribution, falls behind when looking specifically at Tesla vehicles.\n",
    "\n",
    "#### Insight:\n",
    "This suggests a potential **market opportunity for Tesla** in cities like Vancouver:\n",
    "- Vancouver clearly has a **strong demand for electric vehicles** in general.\n",
    "- Yet, Tesla's presence in the city doesn't match that level of demand.\n",
    "- Since Tesla leads in many other regions, it could **expand its market share** in Vancouver by increasing availability, marketing efforts, or infrastructure support.\n",
    "\n",
    "This kind of geographic insight can be useful for strategic decisions in sales, marketing, or dealership expansion planning.\n"
   ]
  },
  {
   "cell_type": "markdown",
   "id": "6e4502f3",
   "metadata": {},
   "source": [
    "## Exploring Model Year Distribution\n",
    "\n",
    "Next, we’ll analyze the **Model Year** column to see how electric vehicle adoption has evolved over time.\n",
    "\n",
    "By grouping all vehicle makes by their model year, we aim to:\n",
    "\n",
    "- Identify which **model years** have the highest number of electric vehicles.\n",
    "- Understand whether **newer models** are becoming more prevalent, which could suggest growing adoption or production.\n",
    "- Detect any shifts or trends that might be influenced by policy changes, technology improvements, or increased consumer demand.\n",
    "\n",
    "This analysis will help us evaluate if **time** plays a role in electric vehicle growth and how that might vary across brands.\n"
   ]
  },
  {
   "cell_type": "code",
   "execution_count": null,
   "id": "4ce51d5e",
   "metadata": {},
   "outputs": [
    {
     "data": {
      "text/plain": [
       "array([1999, 2000, 2002, 2003, 2008, 2010, 2011, 2012, 2013, 2014, 2015,\n",
       "       2016, 2017, 2018, 2019, 2020, 2021, 2022, 2023, 2024, 2025],\n",
       "      dtype=int32)"
      ]
     },
     "execution_count": 38,
     "metadata": {},
     "output_type": "execute_result"
    }
   ],
   "source": [
    "#Checking the unique years in the dataset\n",
    "main_df['model_year_extracted'] = main_df['Model Year'].dt.year\n",
    "unique_model_years = main_df['model_year_extracted'].unique()\n",
    "unique_model_years.sort()  # Optional: to see them in order\n",
    "unique_model_years[:21]     # First 5 unique years\n"
   ]
  },
  {
   "cell_type": "code",
   "execution_count": 44,
   "id": "bb60ee8e",
   "metadata": {},
   "outputs": [
    {
     "data": {
      "text/html": [
       "<div>\n",
       "<style scoped>\n",
       "    .dataframe tbody tr th:only-of-type {\n",
       "        vertical-align: middle;\n",
       "    }\n",
       "\n",
       "    .dataframe tbody tr th {\n",
       "        vertical-align: top;\n",
       "    }\n",
       "\n",
       "    .dataframe thead th {\n",
       "        text-align: right;\n",
       "    }\n",
       "</style>\n",
       "<table border=\"1\" class=\"dataframe\">\n",
       "  <thead>\n",
       "    <tr style=\"text-align: right;\">\n",
       "      <th></th>\n",
       "      <th>Model Year</th>\n",
       "      <th>Count</th>\n",
       "    </tr>\n",
       "  </thead>\n",
       "  <tbody>\n",
       "    <tr>\n",
       "      <th>0</th>\n",
       "      <td>2023</td>\n",
       "      <td>59682</td>\n",
       "    </tr>\n",
       "    <tr>\n",
       "      <th>1</th>\n",
       "      <td>2024</td>\n",
       "      <td>47876</td>\n",
       "    </tr>\n",
       "    <tr>\n",
       "      <th>2</th>\n",
       "      <td>2022</td>\n",
       "      <td>28836</td>\n",
       "    </tr>\n",
       "    <tr>\n",
       "      <th>3</th>\n",
       "      <td>2021</td>\n",
       "      <td>20505</td>\n",
       "    </tr>\n",
       "    <tr>\n",
       "      <th>4</th>\n",
       "      <td>2018</td>\n",
       "      <td>14261</td>\n",
       "    </tr>\n",
       "    <tr>\n",
       "      <th>5</th>\n",
       "      <td>2020</td>\n",
       "      <td>12218</td>\n",
       "    </tr>\n",
       "    <tr>\n",
       "      <th>6</th>\n",
       "      <td>2019</td>\n",
       "      <td>10942</td>\n",
       "    </tr>\n",
       "    <tr>\n",
       "      <th>7</th>\n",
       "      <td>2025</td>\n",
       "      <td>8885</td>\n",
       "    </tr>\n",
       "    <tr>\n",
       "      <th>8</th>\n",
       "      <td>2017</td>\n",
       "      <td>8526</td>\n",
       "    </tr>\n",
       "    <tr>\n",
       "      <th>9</th>\n",
       "      <td>2016</td>\n",
       "      <td>5362</td>\n",
       "    </tr>\n",
       "    <tr>\n",
       "      <th>10</th>\n",
       "      <td>2015</td>\n",
       "      <td>4674</td>\n",
       "    </tr>\n",
       "    <tr>\n",
       "      <th>11</th>\n",
       "      <td>2013</td>\n",
       "      <td>4257</td>\n",
       "    </tr>\n",
       "    <tr>\n",
       "      <th>12</th>\n",
       "      <td>2014</td>\n",
       "      <td>3422</td>\n",
       "    </tr>\n",
       "    <tr>\n",
       "      <th>13</th>\n",
       "      <td>2012</td>\n",
       "      <td>1520</td>\n",
       "    </tr>\n",
       "    <tr>\n",
       "      <th>14</th>\n",
       "      <td>2011</td>\n",
       "      <td>692</td>\n",
       "    </tr>\n",
       "    <tr>\n",
       "      <th>15</th>\n",
       "      <td>2010</td>\n",
       "      <td>23</td>\n",
       "    </tr>\n",
       "    <tr>\n",
       "      <th>16</th>\n",
       "      <td>2008</td>\n",
       "      <td>22</td>\n",
       "    </tr>\n",
       "    <tr>\n",
       "      <th>17</th>\n",
       "      <td>2000</td>\n",
       "      <td>7</td>\n",
       "    </tr>\n",
       "    <tr>\n",
       "      <th>18</th>\n",
       "      <td>2002</td>\n",
       "      <td>2</td>\n",
       "    </tr>\n",
       "    <tr>\n",
       "      <th>19</th>\n",
       "      <td>1999</td>\n",
       "      <td>2</td>\n",
       "    </tr>\n",
       "  </tbody>\n",
       "</table>\n",
       "</div>"
      ],
      "text/plain": [
       "    Model Year  Count\n",
       "0         2023  59682\n",
       "1         2024  47876\n",
       "2         2022  28836\n",
       "3         2021  20505\n",
       "4         2018  14261\n",
       "5         2020  12218\n",
       "6         2019  10942\n",
       "7         2025   8885\n",
       "8         2017   8526\n",
       "9         2016   5362\n",
       "10        2015   4674\n",
       "11        2013   4257\n",
       "12        2014   3422\n",
       "13        2012   1520\n",
       "14        2011    692\n",
       "15        2010     23\n",
       "16        2008     22\n",
       "17        2000      7\n",
       "18        2002      2\n",
       "19        1999      2"
      ]
     },
     "execution_count": 44,
     "metadata": {},
     "output_type": "execute_result"
    }
   ],
   "source": [
    "# Create a table to see the count of electric cars per 'Model Year'\n",
    "\n",
    "model_year_df = main_df.groupby(['model_year_extracted']).size()\n",
    "model_year_df = model_year_df.sort_values(ascending=False)\n",
    "model_year_df = model_year_df.reset_index(name='Count')\n",
    "model_year_df.columns = ['Model Year', 'Count']\n",
    "model_year_df.head(20)"
   ]
  },
  {
   "cell_type": "code",
   "execution_count": 50,
   "id": "fd066212",
   "metadata": {},
   "outputs": [
    {
     "data": {
      "text/plain": [
       "Text(0, 0.5, 'Count')"
      ]
     },
     "execution_count": 50,
     "metadata": {},
     "output_type": "execute_result"
    },
    {
     "data": {
      "image/png": "[encoded data removed]",
      "text/plain": [
       "<Figure size 1200x600 with 1 Axes>"
      ]
     },
     "metadata": {},
     "output_type": "display_data"
    }
   ],
   "source": [
    "# Plot the count of electric cars per 'Model Year'\n",
    "\n",
    "\n",
    "plt.figure(figsize=(12, 6))\n",
    "sns.lineplot(x='Model Year', y='Count', data=model_year_df)\n",
    "plt.title('Count of electric cars per Model Year')\n",
    "plt.xlabel('Model Year')\n",
    "plt.ylabel('Count')\n",
    "\n"
   ]
  },
  {
   "cell_type": "markdown",
   "id": "5da7fc0f",
   "metadata": {},
   "source": [
    "### Electric Vehicle Trends by Model Year\n",
    "\n",
    "The line plot above shows the number of electric vehicles in the dataset by model year. We can observe a clear upward trend over time.\n",
    "\n",
    "#### Key Insights:\n",
    "- There was **minimal adoption before 2010**, with a slow and steady increase through the early 2010s.\n",
    "- A **sharp increase** in electric vehicle counts begins around **2018**, accelerating even more after **2020**.\n",
    "- The **peak occurs around 2023**, indicating a surge in production and/or sales during that period.\n",
    "- There is a **slight drop in 2025**, which is expected since the data may not be complete for the current year, and the industry may be stabilizing after the initial boom.\n",
    "\n",
    "#### Interpretation:\n",
    "This pattern strongly suggests that **demand and adoption of electric vehicles has rapidly grown** over the past few years, likely driven by:\n",
    "- Technological advancements in battery range and performance.\n",
    "- Improved public and private charging infrastructure.\n",
    "- Increased environmental awareness and government incentives.\n",
    "\n",
    "While the sharp growth has tapered slightly in 2025, this is likely part of a natural industry cycle following a large-scale transition to EVs.\n"
   ]
  },
  {
   "cell_type": "markdown",
   "id": "d8d890b5",
   "metadata": {},
   "source": [
    "## Advanced Exploratory Analysis\n",
    "\n",
    "Now that we've completed a foundational exploration of the dataset, we’ll move into a more advanced stage of EDA.\n",
    "\n",
    "This section will combine **time**, **location**, and **vehicle characteristics** to uncover deeper insights. Specifically, we’ll focus on:\n",
    "\n",
    "1. **Geographic Visualization**: Use a map to display where electric vehicles are most concentrated, either by city or state.\n",
    "2. **Yearly Trend by Vehicle Type**: Analyze how the distribution of BEVs and PHEVs has evolved over time.\n",
    "3. **Top Brands Over Time**: Visualize which manufacturers were most dominant each year to better understand market shifts.\n",
    "\n",
    "These steps will give us a clearer picture of how the electric vehicle market is growing, how it differs by region, and how different brands are competing over time.\n"
   ]
  },
  {
   "cell_type": "code",
   "execution_count": 51,
   "id": "c0a4b3cf",
   "metadata": {},
   "outputs": [
    {
     "data": {
      "text/html": [
       "<div>\n",
       "<style scoped>\n",
       "    .dataframe tbody tr th:only-of-type {\n",
       "        vertical-align: middle;\n",
       "    }\n",
       "\n",
       "    .dataframe tbody tr th {\n",
       "        vertical-align: top;\n",
       "    }\n",
       "\n",
       "    .dataframe thead th {\n",
       "        text-align: right;\n",
       "    }\n",
       "</style>\n",
       "<table border=\"1\" class=\"dataframe\">\n",
       "  <thead>\n",
       "    <tr style=\"text-align: right;\">\n",
       "      <th></th>\n",
       "      <th>VIN (1-10)</th>\n",
       "      <th>County</th>\n",
       "      <th>City</th>\n",
       "      <th>State</th>\n",
       "      <th>Postal Code</th>\n",
       "      <th>Model Year</th>\n",
       "      <th>Make</th>\n",
       "      <th>Model</th>\n",
       "      <th>Electric Vehicle Type</th>\n",
       "      <th>Clean Alternative Fuel Vehicle (CAFV) Eligibility</th>\n",
       "      <th>Electric Range</th>\n",
       "      <th>Base MSRP</th>\n",
       "      <th>Legislative District</th>\n",
       "      <th>DOL Vehicle ID</th>\n",
       "      <th>Vehicle Location</th>\n",
       "      <th>Electric Utility</th>\n",
       "      <th>2020 Census Tract</th>\n",
       "      <th>model_year_extracted</th>\n",
       "    </tr>\n",
       "  </thead>\n",
       "  <tbody>\n",
       "    <tr>\n",
       "      <th>0</th>\n",
       "      <td>2T3YL4DV0E</td>\n",
       "      <td>King</td>\n",
       "      <td>Bellevue</td>\n",
       "      <td>WA</td>\n",
       "      <td>98005.0</td>\n",
       "      <td>2014-01-01</td>\n",
       "      <td>TOYOTA</td>\n",
       "      <td>RAV4</td>\n",
       "      <td>Battery Electric Vehicle (BEV)</td>\n",
       "      <td>Clean Alternative Fuel Vehicle Eligible</td>\n",
       "      <td>103.0</td>\n",
       "      <td>0.0</td>\n",
       "      <td>41.0</td>\n",
       "      <td>186450183</td>\n",
       "      <td>POINT (-122.1621 47.64441)</td>\n",
       "      <td>PUGET SOUND ENERGY INC||CITY OF TACOMA - (WA)</td>\n",
       "      <td>5.303302e+10</td>\n",
       "      <td>2014</td>\n",
       "    </tr>\n",
       "    <tr>\n",
       "      <th>1</th>\n",
       "      <td>5YJ3E1EB6K</td>\n",
       "      <td>King</td>\n",
       "      <td>Bothell</td>\n",
       "      <td>WA</td>\n",
       "      <td>98011.0</td>\n",
       "      <td>2019-01-01</td>\n",
       "      <td>TESLA</td>\n",
       "      <td>MODEL 3</td>\n",
       "      <td>Battery Electric Vehicle (BEV)</td>\n",
       "      <td>Clean Alternative Fuel Vehicle Eligible</td>\n",
       "      <td>220.0</td>\n",
       "      <td>0.0</td>\n",
       "      <td>1.0</td>\n",
       "      <td>478093654</td>\n",
       "      <td>POINT (-122.20563 47.76144)</td>\n",
       "      <td>PUGET SOUND ENERGY INC||CITY OF TACOMA - (WA)</td>\n",
       "      <td>5.303302e+10</td>\n",
       "      <td>2019</td>\n",
       "    </tr>\n",
       "    <tr>\n",
       "      <th>2</th>\n",
       "      <td>5UX43EU02S</td>\n",
       "      <td>Thurston</td>\n",
       "      <td>Olympia</td>\n",
       "      <td>WA</td>\n",
       "      <td>98502.0</td>\n",
       "      <td>2025-01-01</td>\n",
       "      <td>BMW</td>\n",
       "      <td>X5</td>\n",
       "      <td>Plug-in Hybrid Electric Vehicle (PHEV)</td>\n",
       "      <td>Clean Alternative Fuel Vehicle Eligible</td>\n",
       "      <td>40.0</td>\n",
       "      <td>0.0</td>\n",
       "      <td>35.0</td>\n",
       "      <td>274800718</td>\n",
       "      <td>POINT (-122.92333 47.03779)</td>\n",
       "      <td>PUGET SOUND ENERGY INC</td>\n",
       "      <td>5.306701e+10</td>\n",
       "      <td>2025</td>\n",
       "    </tr>\n",
       "    <tr>\n",
       "      <th>3</th>\n",
       "      <td>JTMAB3FV5R</td>\n",
       "      <td>Thurston</td>\n",
       "      <td>Olympia</td>\n",
       "      <td>WA</td>\n",
       "      <td>98513.0</td>\n",
       "      <td>2024-01-01</td>\n",
       "      <td>TOYOTA</td>\n",
       "      <td>RAV4 PRIME</td>\n",
       "      <td>Plug-in Hybrid Electric Vehicle (PHEV)</td>\n",
       "      <td>Clean Alternative Fuel Vehicle Eligible</td>\n",
       "      <td>42.0</td>\n",
       "      <td>0.0</td>\n",
       "      <td>2.0</td>\n",
       "      <td>260758165</td>\n",
       "      <td>POINT (-122.81754 46.98876)</td>\n",
       "      <td>PUGET SOUND ENERGY INC</td>\n",
       "      <td>5.306701e+10</td>\n",
       "      <td>2024</td>\n",
       "    </tr>\n",
       "    <tr>\n",
       "      <th>4</th>\n",
       "      <td>5YJYGDEE8M</td>\n",
       "      <td>Yakima</td>\n",
       "      <td>Selah</td>\n",
       "      <td>WA</td>\n",
       "      <td>98942.0</td>\n",
       "      <td>2021-01-01</td>\n",
       "      <td>TESLA</td>\n",
       "      <td>MODEL Y</td>\n",
       "      <td>Battery Electric Vehicle (BEV)</td>\n",
       "      <td>Eligibility unknown as battery range has not b...</td>\n",
       "      <td>0.0</td>\n",
       "      <td>0.0</td>\n",
       "      <td>15.0</td>\n",
       "      <td>236581355</td>\n",
       "      <td>POINT (-120.53145 46.65405)</td>\n",
       "      <td>PACIFICORP</td>\n",
       "      <td>5.307700e+10</td>\n",
       "      <td>2021</td>\n",
       "    </tr>\n",
       "  </tbody>\n",
       "</table>\n",
       "</div>"
      ],
      "text/plain": [
       "   VIN (1-10)    County      City State  Postal Code Model Year    Make  \\\n",
       "0  2T3YL4DV0E      King  Bellevue    WA      98005.0 2014-01-01  TOYOTA   \n",
       "1  5YJ3E1EB6K      King   Bothell    WA      98011.0 2019-01-01   TESLA   \n",
       "2  5UX43EU02S  Thurston   Olympia    WA      98502.0 2025-01-01     BMW   \n",
       "3  JTMAB3FV5R  Thurston   Olympia    WA      98513.0 2024-01-01  TOYOTA   \n",
       "4  5YJYGDEE8M    Yakima     Selah    WA      98942.0 2021-01-01   TESLA   \n",
       "\n",
       "        Model                   Electric Vehicle Type  \\\n",
       "0        RAV4          Battery Electric Vehicle (BEV)   \n",
       "1     MODEL 3          Battery Electric Vehicle (BEV)   \n",
       "2          X5  Plug-in Hybrid Electric Vehicle (PHEV)   \n",
       "3  RAV4 PRIME  Plug-in Hybrid Electric Vehicle (PHEV)   \n",
       "4     MODEL Y          Battery Electric Vehicle (BEV)   \n",
       "\n",
       "   Clean Alternative Fuel Vehicle (CAFV) Eligibility  Electric Range  \\\n",
       "0            Clean Alternative Fuel Vehicle Eligible           103.0   \n",
       "1            Clean Alternative Fuel Vehicle Eligible           220.0   \n",
       "2            Clean Alternative Fuel Vehicle Eligible            40.0   \n",
       "3            Clean Alternative Fuel Vehicle Eligible            42.0   \n",
       "4  Eligibility unknown as battery range has not b...             0.0   \n",
       "\n",
       "   Base MSRP  Legislative District  DOL Vehicle ID  \\\n",
       "0        0.0                  41.0       186450183   \n",
       "1        0.0                   1.0       478093654   \n",
       "2        0.0                  35.0       274800718   \n",
       "3        0.0                   2.0       260758165   \n",
       "4        0.0                  15.0       236581355   \n",
       "\n",
       "              Vehicle Location                               Electric Utility  \\\n",
       "0   POINT (-122.1621 47.64441)  PUGET SOUND ENERGY INC||CITY OF TACOMA - (WA)   \n",
       "1  POINT (-122.20563 47.76144)  PUGET SOUND ENERGY INC||CITY OF TACOMA - (WA)   \n",
       "2  POINT (-122.92333 47.03779)                         PUGET SOUND ENERGY INC   \n",
       "3  POINT (-122.81754 46.98876)                         PUGET SOUND ENERGY INC   \n",
       "4  POINT (-120.53145 46.65405)                                     PACIFICORP   \n",
       "\n",
       "   2020 Census Tract  model_year_extracted  \n",
       "0       5.303302e+10                  2014  \n",
       "1       5.303302e+10                  2019  \n",
       "2       5.306701e+10                  2025  \n",
       "3       5.306701e+10                  2024  \n",
       "4       5.307700e+10                  2021  "
      ]
     },
     "execution_count": 51,
     "metadata": {},
     "output_type": "execute_result"
    }
   ],
   "source": [
    "main_df.head()"
   ]
  },
  {
   "cell_type": "markdown",
   "id": "b75a78a9",
   "metadata": {},
   "source": [
    "## Map: Electric Vehicle Distribution by City\n",
    "\n",
    "To better understand the geographic spread of electric vehicles, we created an interactive map showing the number of EVs per city.\n",
    "\n",
    "We grouped the dataset by city, counted the number of vehicles in each, and plotted the locations using `plotly.express.scatter_geo`.\n",
    "\n",
    "This map helps visualize which urban areas have the highest concentration of EVs, and can reveal potential opportunities for manufacturers or infrastructure expansion.\n"
   ]
  },
  {
   "cell_type": "code",
   "execution_count": 57,
   "id": "104f5a6b",
   "metadata": {},
   "outputs": [
    {
     "data": {
      "application/vnd.plotly.v1+json": {
       "config": {
        "plotlyServerURL": "https://plot.ly"
       },
       "data": [
        {
         "geo": "geo",
         "hovertemplate": "<b>%{hovertext}</b><br><br>Vehicle Count=%{marker.size}<br>Latitude=%{lat}<br>Longitude=%{lon}<extra></extra>",
         "hovertext": [
          "Seattle",
          "Bellevue",
          "Vancouver",
          "Redmond",
          "Bothell",
          "Renton",
          "Kirkland",
          "Sammamish",
          "Olympia",
          "Tacoma",
          "Kent",
          "Spokane",
          "Bellingham",
          "Lynnwood",
          "Everett",
          "Issaquah",
          "Tukwila",
          "Woodinville",
          "Mercer Island",
          "Auburn",
          "Snohomish",
          "Shoreline",
          "Gig Harbor",
          "Edmonds",
          "Bainbridge Island",
          "Federal Way",
          "Camas",
          "Maple Valley",
          "Lake Stevens",
          "Puyallup",
          "Bremerton",
          "Marysville",
          "Port Orchard",
          "Bonney Lake",
          "Kenmore",
          "Seatac",
          "Lacey",
          "Richland",
          "Ridgefield",
          "Burien",
          "Kennewick",
          "Newcastle",
          "Snoqualmie",
          "Lakewood",
          "Monroe",
          "Spokane Valley",
          "Mukilteo",
          "Yakima",
          "Poulsbo",
          "Mill Creek"
         ],
         "lat": [
          47.63089058137327,
          47.60098283653001,
          45.661438051435404,
          47.68169295828692,
          47.80847723010245,
          47.47088293886792,
          47.69799559347629,
          47.6007594894071,
          47.03693145732255,
          47.23980161677826,
          47.38004138589003,
          47.66513091098386,
          48.76456175778185,
          47.84158796093123,
          47.91744128370786,
          47.538104633093525,
          47.44551871716555,
          47.754138997252745,
          47.57816,
          47.31357494579439,
          47.88984538926682,
          47.73178134423614,
          47.340238883553425,
          47.84891507890366,
          47.62728,
          47.30566529383196,
          45.58694,
          47.39353269154229,
          48.01497,
          47.15438334033613,
          47.585207073569485,
          48.07549302390217,
          47.52187741089442,
          47.19175,
          47.75892,
          47.44562662781663,
          47.05242316326531,
          46.28557425314465,
          45.81539,
          47.48142369458128,
          46.201414353628024,
          47.49342663837012,
          47.52904117850953,
          47.16199729946524,
          47.8526,
          47.66389329713722,
          47.89908,
          46.59275743563337,
          47.736884533195024,
          47.83448
         ],
         "legendgroup": "",
         "lon": [
          -122.33793014758145,
          -122.1416679816998,
          -122.59477733133971,
          -122.10668694764203,
          -122.20023807459943,
          -122.15760131622642,
          -122.2163440410752,
          -122.02437429355282,
          -122.87609259478884,
          -122.45387348956281,
          -122.17410017323624,
          -117.40650409161896,
          -122.47374649751504,
          -122.2831823682098,
          -122.21496558988763,
          -122.02038652661871,
          -122.29666361331704,
          -122.15279187843407,
          -122.21238000000001,
          -122.20379594392524,
          -122.11824497354498,
          -122.34463548464299,
          -122.59423838735495,
          -122.33985231727574,
          -122.521,
          -122.34504216124331,
          -122.40199,
          -122.04407505970148,
          -122.06402,
          -122.28998199054621,
          -122.63328392915531,
          -122.17433932740411,
          -122.66415215198386,
          -122.17143999999999,
          -122.24369,
          -122.3093902952603,
          -122.79346781789638,
          -119.27237710691823,
          -122.74595,
          -122.34278496715928,
          -119.20193924937448,
          -122.16762249575551,
          -121.8273759965338,
          -122.53273221925134,
          -121.98087,
          -117.23575562685093,
          -122.29196,
          -120.55106416065911,
          -122.64671208506223,
          -122.21061
         ],
         "marker": {
          "color": "#636efa",
          "line": {
           "width": 0
          },
          "size": [
           36861,
           11366,
           8360,
           8079,
           7614,
           6625,
           6622,
           6561,
           5565,
           5078,
           3983,
           3842,
           3823,
           3737,
           3560,
           3475,
           3274,
           2912,
           2829,
           2675,
           2646,
           2507,
           2499,
           2408,
           2125,
           2059,
           2059,
           2010,
           1951,
           1904,
           1835,
           1799,
           1487,
           1393,
           1320,
           1287,
           1274,
           1272,
           1223,
           1218,
           1199,
           1178,
           1154,
           1122,
           1047,
           1013,
           988,
           971,
           964,
           932
          ],
          "sizemode": "area",
          "sizeref": 40.95666666666666,
          "symbol": "circle"
         },
         "mode": "markers",
         "name": "",
         "showlegend": false,
         "textposition": "top center",
         "type": "scattergeo"
        }
       ],
       "layout": {
        "geo": {
         "center": {},
         "domain": {
          "x": [
           0,
           1
          ],
          "y": [
           0,
           1
          ]
         },
         "projection": {
          "type": "natural earth"
         }
        },
        "legend": {
         "itemsizing": "constant",
         "tracegroupgap": 0
        },
        "margin": {
         "b": 0,
         "l": 0,
         "r": 0,
         "t": 50
        },
        "template": {
         "data": {
          "bar": [
           {
            "error_x": {
             "color": "#2a3f5f"
            },
            "error_y": {
             "color": "#2a3f5f"
            },
            "marker": {
             "line": {
              "color": "#E5ECF6",
              "width": 0.5
             },
             "pattern": {
              "fillmode": "overlay",
              "size": 10,
              "solidity": 0.2
             }
            },
            "type": "bar"
           }
          ],
          "barpolar": [
           {
            "marker": {
             "line": {
              "color": "#E5ECF6",
              "width": 0.5
             },
             "pattern": {
              "fillmode": "overlay",
              "size": 10,
              "solidity": 0.2
             }
            },
            "type": "barpolar"
           }
          ],
          "carpet": [
           {
            "aaxis": {
             "endlinecolor": "#2a3f5f",
             "gridcolor": "white",
             "linecolor": "white",
             "minorgridcolor": "white",
             "startlinecolor": "#2a3f5f"
            },
            "baxis": {
             "endlinecolor": "#2a3f5f",
             "gridcolor": "white",
             "linecolor": "white",
             "minorgridcolor": "white",
             "startlinecolor": "#2a3f5f"
            },
            "type": "carpet"
           }
          ],
          "choropleth": [
           {
            "colorbar": {
             "outlinewidth": 0,
             "ticks": ""
            },
            "type": "choropleth"
           }
          ],
          "contour": [
           {
            "colorbar": {
             "outlinewidth": 0,
             "ticks": ""
            },
            "colorscale": [
             [
              0,
              "#0d0887"
             ],
             [
              0.1111111111111111,
              "#46039f"
             ],
             [
              0.2222222222222222,
              "#7201a8"
             ],
             [
              0.3333333333333333,
              "#9c179e"
             ],
             [
              0.4444444444444444,
              "#bd3786"
             ],
             [
              0.5555555555555556,
              "#d8576b"
             ],
             [
              0.6666666666666666,
              "#ed7953"
             ],
             [
              0.7777777777777778,
              "#fb9f3a"
             ],
             [
              0.8888888888888888,
              "#fdca26"
             ],
             [
              1,
              "#f0f921"
             ]
            ],
            "type": "contour"
           }
          ],
          "contourcarpet": [
           {
            "colorbar": {
             "outlinewidth": 0,
             "ticks": ""
            },
            "type": "contourcarpet"
           }
          ],
          "heatmap": [
           {
            "colorbar": {
             "outlinewidth": 0,
             "ticks": ""
            },
            "colorscale": [
             [
              0,
              "#0d0887"
             ],
             [
              0.1111111111111111,
              "#46039f"
             ],
             [
              0.2222222222222222,
              "#7201a8"
             ],
             [
              0.3333333333333333,
              "#9c179e"
             ],
             [
              0.4444444444444444,
              "#bd3786"
             ],
             [
              0.5555555555555556,
              "#d8576b"
             ],
             [
              0.6666666666666666,
              "#ed7953"
             ],
             [
              0.7777777777777778,
              "#fb9f3a"
             ],
             [
              0.8888888888888888,
              "#fdca26"
             ],
             [
              1,
              "#f0f921"
             ]
            ],
            "type": "heatmap"
           }
          ],
          "heatmapgl": [
           {
            "colorbar": {
             "outlinewidth": 0,
             "ticks": ""
            },
            "colorscale": [
             [
              0,
              "#0d0887"
             ],
             [
              0.1111111111111111,
              "#46039f"
             ],
             [
              0.2222222222222222,
              "#7201a8"
             ],
             [
              0.3333333333333333,
              "#9c179e"
             ],
             [
              0.4444444444444444,
              "#bd3786"
             ],
             [
              0.5555555555555556,
              "#d8576b"
             ],
             [
              0.6666666666666666,
              "#ed7953"
             ],
             [
              0.7777777777777778,
              "#fb9f3a"
             ],
             [
              0.8888888888888888,
              "#fdca26"
             ],
             [
              1,
              "#f0f921"
             ]
            ],
            "type": "heatmapgl"
           }
          ],
          "histogram": [
           {
            "marker": {
             "pattern": {
              "fillmode": "overlay",
              "size": 10,
              "solidity": 0.2
             }
            },
            "type": "histogram"
           }
          ],
          "histogram2d": [
           {
            "colorbar": {
             "outlinewidth": 0,
             "ticks": ""
            },
            "colorscale": [
             [
              0,
              "#0d0887"
             ],
             [
              0.1111111111111111,
              "#46039f"
             ],
             [
              0.2222222222222222,
              "#7201a8"
             ],
             [
              0.3333333333333333,
              "#9c179e"
             ],
             [
              0.4444444444444444,
              "#bd3786"
             ],
             [
              0.5555555555555556,
              "#d8576b"
             ],
             [
              0.6666666666666666,
              "#ed7953"
             ],
             [
              0.7777777777777778,
              "#fb9f3a"
             ],
             [
              0.8888888888888888,
              "#fdca26"
             ],
             [
              1,
              "#f0f921"
             ]
            ],
            "type": "histogram2d"
           }
          ],
          "histogram2dcontour": [
           {
            "colorbar": {
             "outlinewidth": 0,
             "ticks": ""
            },
            "colorscale": [
             [
              0,
              "#0d0887"
             ],
             [
              0.1111111111111111,
              "#46039f"
             ],
             [
              0.2222222222222222,
              "#7201a8"
             ],
             [
              0.3333333333333333,
              "#9c179e"
             ],
             [
              0.4444444444444444,
              "#bd3786"
             ],
             [
              0.5555555555555556,
              "#d8576b"
             ],
             [
              0.6666666666666666,
              "#ed7953"
             ],
             [
              0.7777777777777778,
              "#fb9f3a"
             ],
             [
              0.8888888888888888,
              "#fdca26"
             ],
             [
              1,
              "#f0f921"
             ]
            ],
            "type": "histogram2dcontour"
           }
          ],
          "mesh3d": [
           {
            "colorbar": {
             "outlinewidth": 0,
             "ticks": ""
            },
            "type": "mesh3d"
           }
          ],
          "parcoords": [
           {
            "line": {
             "colorbar": {
              "outlinewidth": 0,
              "ticks": ""
             }
            },
            "type": "parcoords"
           }
          ],
          "pie": [
           {
            "automargin": true,
            "type": "pie"
           }
          ],
          "scatter": [
           {
            "fillpattern": {
             "fillmode": "overlay",
             "size": 10,
             "solidity": 0.2
            },
            "type": "scatter"
           }
          ],
          "scatter3d": [
           {
            "line": {
             "colorbar": {
              "outlinewidth": 0,
              "ticks": ""
             }
            },
            "marker": {
             "colorbar": {
              "outlinewidth": 0,
              "ticks": ""
             }
            },
            "type": "scatter3d"
           }
          ],
          "scattercarpet": [
           {
            "marker": {
             "colorbar": {
              "outlinewidth": 0,
              "ticks": ""
             }
            },
            "type": "scattercarpet"
           }
          ],
          "scattergeo": [
           {
            "marker": {
             "colorbar": {
              "outlinewidth": 0,
              "ticks": ""
             }
            },
            "type": "scattergeo"
           }
          ],
          "scattergl": [
           {
            "marker": {
             "colorbar": {
              "outlinewidth": 0,
              "ticks": ""
             }
            },
            "type": "scattergl"
           }
          ],
          "scattermapbox": [
           {
            "marker": {
             "colorbar": {
              "outlinewidth": 0,
              "ticks": ""
             }
            },
            "type": "scattermapbox"
           }
          ],
          "scatterpolar": [
           {
            "marker": {
             "colorbar": {
              "outlinewidth": 0,
              "ticks": ""
             }
            },
            "type": "scatterpolar"
           }
          ],
          "scatterpolargl": [
           {
            "marker": {
             "colorbar": {
              "outlinewidth": 0,
              "ticks": ""
             }
            },
            "type": "scatterpolargl"
           }
          ],
          "scatterternary": [
           {
            "marker": {
             "colorbar": {
              "outlinewidth": 0,
              "ticks": ""
             }
            },
            "type": "scatterternary"
           }
          ],
          "surface": [
           {
            "colorbar": {
             "outlinewidth": 0,
             "ticks": ""
            },
            "colorscale": [
             [
              0,
              "#0d0887"
             ],
             [
              0.1111111111111111,
              "#46039f"
             ],
             [
              0.2222222222222222,
              "#7201a8"
             ],
             [
              0.3333333333333333,
              "#9c179e"
             ],
             [
              0.4444444444444444,
              "#bd3786"
             ],
             [
              0.5555555555555556,
              "#d8576b"
             ],
             [
              0.6666666666666666,
              "#ed7953"
             ],
             [
              0.7777777777777778,
              "#fb9f3a"
             ],
             [
              0.8888888888888888,
              "#fdca26"
             ],
             [
              1,
              "#f0f921"
             ]
            ],
            "type": "surface"
           }
          ],
          "table": [
           {
            "cells": {
             "fill": {
              "color": "#EBF0F8"
             },
             "line": {
              "color": "white"
             }
            },
            "header": {
             "fill": {
              "color": "#C8D4E3"
             },
             "line": {
              "color": "white"
             }
            },
            "type": "table"
           }
          ]
         },
         "layout": {
          "annotationdefaults": {
           "arrowcolor": "#2a3f5f",
           "arrowhead": 0,
           "arrowwidth": 1
          },
          "autotypenumbers": "strict",
          "coloraxis": {
           "colorbar": {
            "outlinewidth": 0,
            "ticks": ""
           }
          },
          "colorscale": {
           "diverging": [
            [
             0,
             "#8e0152"
            ],
            [
             0.1,
             "#c51b7d"
            ],
            [
             0.2,
             "#de77ae"
            ],
            [
             0.3,
             "#f1b6da"
            ],
            [
             0.4,
             "#fde0ef"
            ],
            [
             0.5,
             "#f7f7f7"
            ],
            [
             0.6,
             "#e6f5d0"
            ],
            [
             0.7,
             "#b8e186"
            ],
            [
             0.8,
             "#7fbc41"
            ],
            [
             0.9,
             "#4d9221"
            ],
            [
             1,
             "#276419"
            ]
           ],
           "sequential": [
            [
             0,
             "#0d0887"
            ],
            [
             0.1111111111111111,
             "#46039f"
            ],
            [
             0.2222222222222222,
             "#7201a8"
            ],
            [
             0.3333333333333333,
             "#9c179e"
            ],
            [
             0.4444444444444444,
             "#bd3786"
            ],
            [
             0.5555555555555556,
             "#d8576b"
            ],
            [
             0.6666666666666666,
             "#ed7953"
            ],
            [
             0.7777777777777778,
             "#fb9f3a"
            ],
            [
             0.8888888888888888,
             "#fdca26"
            ],
            [
             1,
             "#f0f921"
            ]
           ],
           "sequentialminus": [
            [
             0,
             "#0d0887"
            ],
            [
             0.1111111111111111,
             "#46039f"
            ],
            [
             0.2222222222222222,
             "#7201a8"
            ],
            [
             0.3333333333333333,
             "#9c179e"
            ],
            [
             0.4444444444444444,
             "#bd3786"
            ],
            [
             0.5555555555555556,
             "#d8576b"
            ],
            [
             0.6666666666666666,
             "#ed7953"
            ],
            [
             0.7777777777777778,
             "#fb9f3a"
            ],
            [
             0.8888888888888888,
             "#fdca26"
            ],
            [
             1,
             "#f0f921"
            ]
           ]
          },
          "colorway": [
           "#636efa",
           "#EF553B",
           "#00cc96",
           "#ab63fa",
           "#FFA15A",
           "#19d3f3",
           "#FF6692",
           "#B6E880",
           "#FF97FF",
           "#FECB52"
          ],
          "font": {
           "color": "#2a3f5f"
          },
          "geo": {
           "bgcolor": "white",
           "lakecolor": "white",
           "landcolor": "#E5ECF6",
           "showlakes": true,
           "showland": true,
           "subunitcolor": "white"
          },
          "hoverlabel": {
           "align": "left"
          },
          "hovermode": "closest",
          "mapbox": {
           "style": "light"
          },
          "paper_bgcolor": "white",
          "plot_bgcolor": "#E5ECF6",
          "polar": {
           "angularaxis": {
            "gridcolor": "white",
            "linecolor": "white",
            "ticks": ""
           },
           "bgcolor": "#E5ECF6",
           "radialaxis": {
            "gridcolor": "white",
            "linecolor": "white",
            "ticks": ""
           }
          },
          "scene": {
           "xaxis": {
            "backgroundcolor": "#E5ECF6",
            "gridcolor": "white",
            "gridwidth": 2,
            "linecolor": "white",
            "showbackground": true,
            "ticks": "",
            "zerolinecolor": "white"
           },
           "yaxis": {
            "backgroundcolor": "#E5ECF6",
            "gridcolor": "white",
            "gridwidth": 2,
            "linecolor": "white",
            "showbackground": true,
            "ticks": "",
            "zerolinecolor": "white"
           },
           "zaxis": {
            "backgroundcolor": "#E5ECF6",
            "gridcolor": "white",
            "gridwidth": 2,
            "linecolor": "white",
            "showbackground": true,
            "ticks": "",
            "zerolinecolor": "white"
           }
          },
          "shapedefaults": {
           "line": {
            "color": "#2a3f5f"
           }
          },
          "ternary": {
           "aaxis": {
            "gridcolor": "white",
            "linecolor": "white",
            "ticks": ""
           },
           "baxis": {
            "gridcolor": "white",
            "linecolor": "white",
            "ticks": ""
           },
           "bgcolor": "#E5ECF6",
           "caxis": {
            "gridcolor": "white",
            "linecolor": "white",
            "ticks": ""
           }
          },
          "title": {
           "x": 0.05
          },
          "xaxis": {
           "automargin": true,
           "gridcolor": "white",
           "linecolor": "white",
           "ticks": "",
           "title": {
            "standoff": 15
           },
           "zerolinecolor": "white",
           "zerolinewidth": 2
          },
          "yaxis": {
           "automargin": true,
           "gridcolor": "white",
           "linecolor": "white",
           "ticks": "",
           "title": {
            "standoff": 15
           },
           "zerolinecolor": "white",
           "zerolinewidth": 2
          }
         }
        },
        "title": {
         "text": "Top 50 Cities by Electric Vehicle Count"
        }
       }
      }
     },
     "metadata": {},
     "output_type": "display_data"
    }
   ],
   "source": [
    "# Limit to top 50 cities by vehicle count\n",
    "top_cities = city_group.sort_values('Vehicle Count', ascending=False).head(50)\n",
    "\n",
    "fig = px.scatter_geo(top_cities,\n",
    "                     lat='Latitude',\n",
    "                     lon='Longitude',\n",
    "                     size='Vehicle Count',\n",
    "                     hover_name='City',\n",
    "                     title='Top 50 Cities by Electric Vehicle Count',\n",
    "                     projection='natural earth',\n",
    "                     size_max=30)\n",
    "\n",
    "fig.update_traces(marker=dict(line=dict(width=0)), \n",
    "                  textposition='top center')\n",
    "\n",
    "fig.update_layout(margin={\"r\":0,\"t\":50,\"l\":0,\"b\":0})\n",
    "fig.show()\n"
   ]
  },
  {
   "cell_type": "markdown",
   "id": "0c4d4abf",
   "metadata": {},
   "source": [
    "### 📍 Map: Electric Vehicle Concentration by City\n",
    "\n",
    "We created an interactive geographic map to show the distribution of electric vehicles across the **top 50 cities** with the highest number of entries in the dataset.\n",
    "\n",
    "To improve clarity, we:\n",
    "- Limited the view to the top 50 cities based on EV count\n",
    "- Removed city name labels to reduce visual clutter\n",
    "- Used marker size to represent the number of vehicles in each city\n",
    "\n",
    "#### Observations:\n",
    "- **Coastal cities** appear to have a higher concentration of electric vehicles.\n",
    "- This could reflect better infrastructure, higher environmental awareness, or local government incentives promoting EV adoption.\n",
    "\n",
    "> Note: The dataset is likely focused on a specific region (such as Washington State), so while the map is regionally accurate, it doesn't reflect national trends.\n",
    "\n"
   ]
  },
  {
   "cell_type": "markdown",
   "id": "fe1b86d2",
   "metadata": {},
   "source": [
    "## Electric Vehicle Type Trend Over the Years\n",
    "\n",
    "To understand how electric vehicle types have evolved over time, we plotted the yearly distribution of **Battery Electric Vehicles (BEVs)** and **Plug-in Hybrid Electric Vehicles (PHEVs)**.\n",
    "\n",
    "#### Observations:\n",
    "- BEVs have seen a **significant increase** in recent years, especially after 2020.\n",
    "- PHEVs appear relatively stable or slowly increasing, but **don't match the growth rate** of BEVs.\n",
    "- This supports earlier insights that BEVs are becoming the **preferred option**, likely due to better range, infrastructure, and policy incentives.\n",
    "\n",
    "The plot highlights a **clear shift toward full electrification**, with BEVs leading the market's growth.\n"
   ]
  },
  {
   "cell_type": "code",
   "execution_count": 58,
   "id": "afafc88f",
   "metadata": {},
   "outputs": [
    {
     "data": {
      "image/png": "[encoded data removed]",
      "text/plain": [
       "<Figure size 1200x600 with 1 Axes>"
      ]
     },
     "metadata": {},
     "output_type": "display_data"
    }
   ],
   "source": [
    "# Group by model year and electric vehicle type\n",
    "ev_type_by_year = main_df.groupby(['model_year_extracted', 'Electric Vehicle Type']) \\\n",
    "                         .size().reset_index(name='Count')\n",
    "\n",
    "# Plot the trend over time\n",
    "plt.figure(figsize=(12, 6))\n",
    "sns.lineplot(data=ev_type_by_year,\n",
    "             x='model_year_extracted',\n",
    "             y='Count',\n",
    "             hue='Electric Vehicle Type')\n",
    "\n",
    "plt.title('Electric Vehicle Type Trend Over the Years')\n",
    "plt.xlabel('Model Year')\n",
    "plt.ylabel('Vehicle Count')\n",
    "plt.xticks(rotation=45)\n",
    "plt.tight_layout()\n",
    "plt.show()\n"
   ]
  },
  {
   "cell_type": "markdown",
   "id": "49e4b697",
   "metadata": {},
   "source": [
    "###  Electric Vehicle Type Trend Over the Years\n",
    "\n",
    "This line chart shows how electric vehicle types have evolved over time, comparing **Battery Electric Vehicles (BEVs)** and **Plug-in Hybrid Electric Vehicles (PHEVs)**.\n",
    "\n",
    "#### Observations:\n",
    "- Both types have seen growth, but **BEVs have surged significantly** in recent years.\n",
    "- The growth accelerates especially after **2020**, likely driven by better charging infrastructure, increasing range, and stronger policy support.\n",
    "- While PHEVs show some growth, it’s much more modest, and the gap between the two has widened over time.\n",
    "\n",
    "This confirms a broader market shift toward **fully electric vehicles**, reflecting consumer preference for greener options as the technology matures.\n"
   ]
  },
  {
   "cell_type": "markdown",
   "id": "29af8a11",
   "metadata": {},
   "source": [
    "## Top 10 Brands by Model Year (Heatmap)\n",
    "\n",
    "This heatmap shows the distribution of electric vehicles by **Make** across different **model years**.\n",
    "\n",
    "Each cell represents the number of vehicles from a specific brand in a given year. Darker shades indicate higher counts.\n",
    "\n",
    "#### Observations:\n",
    "- **Tesla** clearly leads across recent years, especially after 2018.\n",
    "- Some brands like **Nissan** and **Chevrolet** have consistent presence but don't grow at the same pace.\n",
    "- Other brands show more scattered appearances, likely reflecting a few popular models or experimental EV launches.\n",
    "\n",
    "This visualization provides a quick snapshot of how brand dominance in the EV market has evolved over time.\n"
   ]
  },
  {
   "cell_type": "code",
   "execution_count": 59,
   "id": "0dbb174a",
   "metadata": {},
   "outputs": [
    {
     "data": {
      "image/png": "[encoded data removed]",
      "text/plain": [
       "<Figure size 1400x600 with 2 Axes>"
      ]
     },
     "metadata": {},
     "output_type": "display_data"
    }
   ],
   "source": [
    "# Group by model year and make\n",
    "brand_by_year = main_df.groupby(['model_year_extracted', 'Make']) \\\n",
    "                       .size().reset_index(name='Count')\n",
    "\n",
    "# Pivot for heatmap\n",
    "heatmap_data = brand_by_year.pivot(index='Make', columns='model_year_extracted', values='Count').fillna(0)\n",
    "\n",
    "# Keep only top 10 most frequent brands overall\n",
    "top_makes = heatmap_data.sum(axis=1).sort_values(ascending=False).head(10).index\n",
    "heatmap_data = heatmap_data.loc[top_makes]\n",
    "\n",
    "# Plot\n",
    "plt.figure(figsize=(14, 6))\n",
    "sns.heatmap(heatmap_data, cmap='Blues', linewidths=0.5, linecolor='gray')\n",
    "plt.title('Top 10 Makes by Model Year')\n",
    "plt.xlabel('Model Year')\n",
    "plt.ylabel('Make')\n",
    "plt.xticks(rotation=45)\n",
    "plt.tight_layout()\n",
    "plt.show()\n"
   ]
  },
  {
   "cell_type": "markdown",
   "id": "0b9defd4",
   "metadata": {},
   "source": [
    "###  Top 10 Brands by Model Year\n",
    "\n",
    "This heatmap shows how electric vehicle production has evolved across different brands over time.\n",
    "\n",
    "Each cell represents the number of EVs from a given **Make** in a specific **Model Year**. Darker shades indicate a higher number of vehicles.\n",
    "\n",
    "#### Observations:\n",
    "- **Tesla** clearly dominates the electric vehicle space, especially from **2018 onward**, with a major spike around 2023.\n",
    "- Other brands like **Chevrolet**, **Nissan**, and **Ford** have steady but lower contributions over the years.\n",
    "- **Rivian**, **Jeep**, and **Hyundai** appear only in recent years, suggesting they're newer players in the EV space.\n",
    "- Most brands saw increased activity post-2020, aligning with the general market expansion and consumer adoption of EVs.\n",
    "\n",
    "This visualization helps highlight the **shift in industry leadership** and how quickly certain brands, especially Tesla, have taken over the EV market in recent years.\n"
   ]
  },
  {
   "cell_type": "markdown",
   "id": "9a377e21",
   "metadata": {},
   "source": [
    "## ✅ Key Takeaways\n",
    "\n",
    "After exploring the dataset from multiple perspectives — including vehicle types, cities, makes, and model years — here are the main insights:\n",
    "\n",
    "- **Battery Electric Vehicles (BEVs)** significantly outnumber Plug-in Hybrids (PHEVs), and their growth has accelerated rapidly after 2020.\n",
    "- **Tesla** is by far the most dominant brand in the dataset, particularly in recent years, and leads in nearly every major city included.\n",
    "- Cities like **Seattle** and **Bellevue** have the highest EV adoption, while places like **Vancouver**, despite high EV numbers, show lower Tesla adoption — potentially revealing untapped market opportunities.\n",
    "- The **most common Tesla models** are not necessarily the ones with the longest range, suggesting that **price and accessibility** may influence consumer decisions more than range.\n",
    "- **Coastal cities** appear to have a higher concentration of electric vehicles, which could reflect stronger infrastructure and local incentives.\n",
    "- Over time, the **brand landscape has become more competitive**, with more automakers entering the market in the early 2020s.\n",
    "\n",
    "---\n",
    "\n",
    "## 🔍 Further Analysis (If More Data Were Available)\n",
    "\n",
    "If additional data were available, we could take the analysis even further:\n",
    "\n",
    "- **Pricing Data**: Analyze how electric vehicle cost correlates with adoption, model popularity, and electric range.\n",
    "- **Demographic or Income Data by City**: Investigate how socioeconomic factors affect EV adoption.\n",
    "- **Charging Infrastructure**: Study the relationship between the number of public charging stations and EV growth.\n",
    "- **Time Series Sales Data**: Perform forecasting or seasonal trend analysis to better understand market dynamics.\n",
    "- **CO₂ Emissions Saved or Efficiency Ratings**: Quantify the environmental impact and efficiency advantages of different EV models.\n",
    "\n",
    "---\n",
    "\n",
    "This notebook serves as a strong foundation for exploratory data analysis and sets the stage for more complex modeling or business insights if richer datasets become available.\n"
   ]
  },
  {
   "cell_type": "markdown",
   "id": "7add2c3f",
   "metadata": {},
   "source": []
  }
 ],
 "metadata": {
  "kernelspec": {
   "display_name": "ml_env",
   "language": "python",
   "name": "python3"
  },
  "language_info": {
   "codemirror_mode": {
    "name": "ipython",
    "version": 3
   },
   "file_extension": ".py",
   "mimetype": "text/x-python",
   "name": "python",
   "nbconvert_exporter": "python",
   "pygments_lexer": "ipython3",
   "version": "3.11.5"
  }
 },
 "nbformat": 4,
 "nbformat_minor": 5
}
